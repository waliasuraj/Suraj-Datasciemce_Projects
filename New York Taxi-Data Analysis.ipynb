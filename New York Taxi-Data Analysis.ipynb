{
 "cells": [
  {
   "cell_type": "code",
   "execution_count": 117,
   "id": "914be355",
   "metadata": {},
   "outputs": [],
   "source": [
    "import pandas as pd\n",
    "import numpy as np\n",
    "import seaborn as sns\n",
    "import matplotlib.pyplot as plt\n",
    "%matplotlib inline"
   ]
  },
  {
   "cell_type": "code",
   "execution_count": 118,
   "id": "a5021569",
   "metadata": {},
   "outputs": [
    {
     "name": "stdout",
     "output_type": "stream",
     "text": [
      "C:\\Users\\DELL\\Desktop\\NYC green taxi\n"
     ]
    }
   ],
   "source": [
    "import io\n",
    "%cd \"C:\\Users\\DELL\\Desktop\\NYC green taxi\""
   ]
  },
  {
   "cell_type": "code",
   "execution_count": 119,
   "id": "73132b71",
   "metadata": {},
   "outputs": [],
   "source": [
    "greentaxi=pd.read_csv(\"NYC Green Taxi June 2022.csv\",low_memory=False)"
   ]
  },
  {
   "cell_type": "code",
   "execution_count": 120,
   "id": "03ef213b",
   "metadata": {},
   "outputs": [
    {
     "data": {
      "text/plain": [
       "(73718, 20)"
      ]
     },
     "execution_count": 120,
     "metadata": {},
     "output_type": "execute_result"
    }
   ],
   "source": [
    "greentaxi.shape"
   ]
  },
  {
   "cell_type": "code",
   "execution_count": 121,
   "id": "15b179a9",
   "metadata": {},
   "outputs": [
    {
     "name": "stdout",
     "output_type": "stream",
     "text": [
      "<class 'pandas.core.frame.DataFrame'>\n",
      "RangeIndex: 73718 entries, 0 to 73717\n",
      "Data columns (total 20 columns):\n",
      " #   Column                         Non-Null Count  Dtype  \n",
      "---  ------                         --------------  -----  \n",
      " 0   VendorID(Int64)                73718 non-null  int64  \n",
      " 1   lpep_pickup_datetime(Int64)    73718 non-null  float64\n",
      " 2   lpep_dropoff_datetime(Int64)   73718 non-null  float64\n",
      " 3   store_and_fwd_flag(String)     64436 non-null  object \n",
      " 4   RatecodeID(Double)             64436 non-null  float64\n",
      " 5   PULocationID(Int64)            73718 non-null  int64  \n",
      " 6   DOLocationID(Int64)            73718 non-null  int64  \n",
      " 7   passenger_count(Double)        64436 non-null  float64\n",
      " 8   trip_distance(Double)          73718 non-null  float64\n",
      " 9   fare_amount(Double)            73718 non-null  float64\n",
      " 10  extra(Double)                  73718 non-null  float64\n",
      " 11  mta_tax(Double)                73718 non-null  float64\n",
      " 12  tip_amount(Double)             73718 non-null  float64\n",
      " 13  tolls_amount(Double)           73718 non-null  float64\n",
      " 14  ehail_fee(Int32)               0 non-null      float64\n",
      " 15  improvement_surcharge(Double)  73718 non-null  float64\n",
      " 16  total_amount(Double)           73718 non-null  float64\n",
      " 17  payment_type(Double)           64436 non-null  float64\n",
      " 18  trip_type(Double)              64435 non-null  float64\n",
      " 19  congestion_surcharge(Double)   64436 non-null  float64\n",
      "dtypes: float64(16), int64(3), object(1)\n",
      "memory usage: 11.2+ MB\n"
     ]
    }
   ],
   "source": [
    "greentaxi.info()"
   ]
  },
  {
   "cell_type": "markdown",
   "id": "92e1fcd4",
   "metadata": {},
   "source": [
    "# Exploratory Data Analysis- EDA"
   ]
  },
  {
   "cell_type": "markdown",
   "id": "ece70922",
   "metadata": {},
   "source": [
    "# What is Exploratory Data Analysis?\n",
    "Exploratory Data Analysis is investigating data and drawing out insights from it to study its main characteristics. \n",
    "EDA can be done using statistical and visualization techniques.\n",
    "\n",
    "# Why is EDA important?\n",
    "\n",
    "We simply can’t make sense of such huge datasets if we don’t explore the data.\n",
    "\n",
    "Exploring and analyzing the data is important to see how features are contributing to the target variable, identifying anomalies and outliers to treat them lest they affect our model, to study the nature of the features, and be able to perform data cleaning so that our model building process is as efficient as possible.\n",
    "\n",
    "If we don’t perform exploratory data analysis, we won’t be able to find inconsistent or incomplete data that may pose trends incorrectly to our model.\n",
    "\n",
    "From a business point of view, business stakeholders often have certain assumptions about data. Exploratory Data Analysis helps us look deeper and see if our intuition matches with the data. It helps us see if we are asking the right questions.\n",
    "\n",
    "This step also serves as the basis for answering our business questions.\n",
    "\n"
   ]
  },
  {
   "cell_type": "code",
   "execution_count": 122,
   "id": "c330d58e",
   "metadata": {},
   "outputs": [],
   "source": [
    "# head, tail, shape, dtypes, describe."
   ]
  },
  {
   "cell_type": "code",
   "execution_count": 123,
   "id": "0932e7cf",
   "metadata": {},
   "outputs": [
    {
     "data": {
      "text/html": [
       "<div>\n",
       "<style scoped>\n",
       "    .dataframe tbody tr th:only-of-type {\n",
       "        vertical-align: middle;\n",
       "    }\n",
       "\n",
       "    .dataframe tbody tr th {\n",
       "        vertical-align: top;\n",
       "    }\n",
       "\n",
       "    .dataframe thead th {\n",
       "        text-align: right;\n",
       "    }\n",
       "</style>\n",
       "<table border=\"1\" class=\"dataframe\">\n",
       "  <thead>\n",
       "    <tr style=\"text-align: right;\">\n",
       "      <th></th>\n",
       "      <th>VendorID(Int64)</th>\n",
       "      <th>lpep_pickup_datetime(Int64)</th>\n",
       "      <th>lpep_dropoff_datetime(Int64)</th>\n",
       "      <th>store_and_fwd_flag(String)</th>\n",
       "      <th>RatecodeID(Double)</th>\n",
       "      <th>PULocationID(Int64)</th>\n",
       "      <th>DOLocationID(Int64)</th>\n",
       "      <th>passenger_count(Double)</th>\n",
       "      <th>trip_distance(Double)</th>\n",
       "      <th>fare_amount(Double)</th>\n",
       "      <th>extra(Double)</th>\n",
       "      <th>mta_tax(Double)</th>\n",
       "      <th>tip_amount(Double)</th>\n",
       "      <th>tolls_amount(Double)</th>\n",
       "      <th>ehail_fee(Int32)</th>\n",
       "      <th>improvement_surcharge(Double)</th>\n",
       "      <th>total_amount(Double)</th>\n",
       "      <th>payment_type(Double)</th>\n",
       "      <th>trip_type(Double)</th>\n",
       "      <th>congestion_surcharge(Double)</th>\n",
       "    </tr>\n",
       "  </thead>\n",
       "  <tbody>\n",
       "    <tr>\n",
       "      <th>0</th>\n",
       "      <td>2</td>\n",
       "      <td>1.654040e+15</td>\n",
       "      <td>1.654040e+15</td>\n",
       "      <td>N</td>\n",
       "      <td>1.0</td>\n",
       "      <td>134</td>\n",
       "      <td>216</td>\n",
       "      <td>2.0</td>\n",
       "      <td>2.03</td>\n",
       "      <td>7.5</td>\n",
       "      <td>0.5</td>\n",
       "      <td>0.5</td>\n",
       "      <td>2.64</td>\n",
       "      <td>0.0</td>\n",
       "      <td>NaN</td>\n",
       "      <td>0.3</td>\n",
       "      <td>11.44</td>\n",
       "      <td>1.0</td>\n",
       "      <td>1.0</td>\n",
       "      <td>0.0</td>\n",
       "    </tr>\n",
       "    <tr>\n",
       "      <th>1</th>\n",
       "      <td>2</td>\n",
       "      <td>1.654050e+15</td>\n",
       "      <td>1.654050e+15</td>\n",
       "      <td>N</td>\n",
       "      <td>1.0</td>\n",
       "      <td>134</td>\n",
       "      <td>216</td>\n",
       "      <td>2.0</td>\n",
       "      <td>4.26</td>\n",
       "      <td>14.5</td>\n",
       "      <td>0.5</td>\n",
       "      <td>0.5</td>\n",
       "      <td>3.16</td>\n",
       "      <td>0.0</td>\n",
       "      <td>NaN</td>\n",
       "      <td>0.3</td>\n",
       "      <td>18.96</td>\n",
       "      <td>1.0</td>\n",
       "      <td>1.0</td>\n",
       "      <td>0.0</td>\n",
       "    </tr>\n",
       "    <tr>\n",
       "      <th>2</th>\n",
       "      <td>2</td>\n",
       "      <td>1.654040e+15</td>\n",
       "      <td>1.654040e+15</td>\n",
       "      <td>N</td>\n",
       "      <td>5.0</td>\n",
       "      <td>53</td>\n",
       "      <td>53</td>\n",
       "      <td>1.0</td>\n",
       "      <td>0.00</td>\n",
       "      <td>15.0</td>\n",
       "      <td>0.0</td>\n",
       "      <td>0.0</td>\n",
       "      <td>4.59</td>\n",
       "      <td>0.0</td>\n",
       "      <td>NaN</td>\n",
       "      <td>0.3</td>\n",
       "      <td>19.89</td>\n",
       "      <td>1.0</td>\n",
       "      <td>2.0</td>\n",
       "      <td>0.0</td>\n",
       "    </tr>\n",
       "    <tr>\n",
       "      <th>3</th>\n",
       "      <td>2</td>\n",
       "      <td>1.654040e+15</td>\n",
       "      <td>1.654040e+15</td>\n",
       "      <td>N</td>\n",
       "      <td>1.0</td>\n",
       "      <td>65</td>\n",
       "      <td>17</td>\n",
       "      <td>1.0</td>\n",
       "      <td>1.78</td>\n",
       "      <td>9.5</td>\n",
       "      <td>0.5</td>\n",
       "      <td>0.5</td>\n",
       "      <td>1.00</td>\n",
       "      <td>0.0</td>\n",
       "      <td>NaN</td>\n",
       "      <td>0.3</td>\n",
       "      <td>11.80</td>\n",
       "      <td>1.0</td>\n",
       "      <td>1.0</td>\n",
       "      <td>0.0</td>\n",
       "    </tr>\n",
       "    <tr>\n",
       "      <th>4</th>\n",
       "      <td>2</td>\n",
       "      <td>1.654040e+15</td>\n",
       "      <td>1.654040e+15</td>\n",
       "      <td>N</td>\n",
       "      <td>1.0</td>\n",
       "      <td>41</td>\n",
       "      <td>159</td>\n",
       "      <td>3.0</td>\n",
       "      <td>3.10</td>\n",
       "      <td>13.0</td>\n",
       "      <td>0.5</td>\n",
       "      <td>0.5</td>\n",
       "      <td>0.00</td>\n",
       "      <td>0.0</td>\n",
       "      <td>NaN</td>\n",
       "      <td>0.3</td>\n",
       "      <td>14.30</td>\n",
       "      <td>2.0</td>\n",
       "      <td>1.0</td>\n",
       "      <td>0.0</td>\n",
       "    </tr>\n",
       "  </tbody>\n",
       "</table>\n",
       "</div>"
      ],
      "text/plain": [
       "   VendorID(Int64)  lpep_pickup_datetime(Int64)  lpep_dropoff_datetime(Int64)  \\\n",
       "0                2                 1.654040e+15                  1.654040e+15   \n",
       "1                2                 1.654050e+15                  1.654050e+15   \n",
       "2                2                 1.654040e+15                  1.654040e+15   \n",
       "3                2                 1.654040e+15                  1.654040e+15   \n",
       "4                2                 1.654040e+15                  1.654040e+15   \n",
       "\n",
       "  store_and_fwd_flag(String)  RatecodeID(Double)  PULocationID(Int64)  \\\n",
       "0                          N                 1.0                  134   \n",
       "1                          N                 1.0                  134   \n",
       "2                          N                 5.0                   53   \n",
       "3                          N                 1.0                   65   \n",
       "4                          N                 1.0                   41   \n",
       "\n",
       "   DOLocationID(Int64)  passenger_count(Double)  trip_distance(Double)  \\\n",
       "0                  216                      2.0                   2.03   \n",
       "1                  216                      2.0                   4.26   \n",
       "2                   53                      1.0                   0.00   \n",
       "3                   17                      1.0                   1.78   \n",
       "4                  159                      3.0                   3.10   \n",
       "\n",
       "   fare_amount(Double)  extra(Double)  mta_tax(Double)  tip_amount(Double)  \\\n",
       "0                  7.5            0.5              0.5                2.64   \n",
       "1                 14.5            0.5              0.5                3.16   \n",
       "2                 15.0            0.0              0.0                4.59   \n",
       "3                  9.5            0.5              0.5                1.00   \n",
       "4                 13.0            0.5              0.5                0.00   \n",
       "\n",
       "   tolls_amount(Double)  ehail_fee(Int32)  improvement_surcharge(Double)  \\\n",
       "0                   0.0               NaN                            0.3   \n",
       "1                   0.0               NaN                            0.3   \n",
       "2                   0.0               NaN                            0.3   \n",
       "3                   0.0               NaN                            0.3   \n",
       "4                   0.0               NaN                            0.3   \n",
       "\n",
       "   total_amount(Double)  payment_type(Double)  trip_type(Double)  \\\n",
       "0                 11.44                   1.0                1.0   \n",
       "1                 18.96                   1.0                1.0   \n",
       "2                 19.89                   1.0                2.0   \n",
       "3                 11.80                   1.0                1.0   \n",
       "4                 14.30                   2.0                1.0   \n",
       "\n",
       "   congestion_surcharge(Double)  \n",
       "0                           0.0  \n",
       "1                           0.0  \n",
       "2                           0.0  \n",
       "3                           0.0  \n",
       "4                           0.0  "
      ]
     },
     "execution_count": 123,
     "metadata": {},
     "output_type": "execute_result"
    }
   ],
   "source": [
    "greentaxi.head()"
   ]
  },
  {
   "cell_type": "code",
   "execution_count": 124,
   "id": "b1e2d58b",
   "metadata": {},
   "outputs": [
    {
     "data": {
      "text/html": [
       "<div>\n",
       "<style scoped>\n",
       "    .dataframe tbody tr th:only-of-type {\n",
       "        vertical-align: middle;\n",
       "    }\n",
       "\n",
       "    .dataframe tbody tr th {\n",
       "        vertical-align: top;\n",
       "    }\n",
       "\n",
       "    .dataframe thead th {\n",
       "        text-align: right;\n",
       "    }\n",
       "</style>\n",
       "<table border=\"1\" class=\"dataframe\">\n",
       "  <thead>\n",
       "    <tr style=\"text-align: right;\">\n",
       "      <th></th>\n",
       "      <th>VendorID(Int64)</th>\n",
       "      <th>lpep_pickup_datetime(Int64)</th>\n",
       "      <th>lpep_dropoff_datetime(Int64)</th>\n",
       "      <th>store_and_fwd_flag(String)</th>\n",
       "      <th>RatecodeID(Double)</th>\n",
       "      <th>PULocationID(Int64)</th>\n",
       "      <th>DOLocationID(Int64)</th>\n",
       "      <th>passenger_count(Double)</th>\n",
       "      <th>trip_distance(Double)</th>\n",
       "      <th>fare_amount(Double)</th>\n",
       "      <th>extra(Double)</th>\n",
       "      <th>mta_tax(Double)</th>\n",
       "      <th>tip_amount(Double)</th>\n",
       "      <th>tolls_amount(Double)</th>\n",
       "      <th>ehail_fee(Int32)</th>\n",
       "      <th>improvement_surcharge(Double)</th>\n",
       "      <th>total_amount(Double)</th>\n",
       "      <th>payment_type(Double)</th>\n",
       "      <th>trip_type(Double)</th>\n",
       "      <th>congestion_surcharge(Double)</th>\n",
       "    </tr>\n",
       "  </thead>\n",
       "  <tbody>\n",
       "    <tr>\n",
       "      <th>73713</th>\n",
       "      <td>2</td>\n",
       "      <td>1.656630e+15</td>\n",
       "      <td>1.656630e+15</td>\n",
       "      <td>NaN</td>\n",
       "      <td>NaN</td>\n",
       "      <td>74</td>\n",
       "      <td>169</td>\n",
       "      <td>NaN</td>\n",
       "      <td>2.86</td>\n",
       "      <td>18.66</td>\n",
       "      <td>0.0</td>\n",
       "      <td>0.0</td>\n",
       "      <td>2.30</td>\n",
       "      <td>0.0</td>\n",
       "      <td>NaN</td>\n",
       "      <td>0.3</td>\n",
       "      <td>21.26</td>\n",
       "      <td>NaN</td>\n",
       "      <td>NaN</td>\n",
       "      <td>NaN</td>\n",
       "    </tr>\n",
       "    <tr>\n",
       "      <th>73714</th>\n",
       "      <td>2</td>\n",
       "      <td>1.656630e+15</td>\n",
       "      <td>1.656630e+15</td>\n",
       "      <td>NaN</td>\n",
       "      <td>NaN</td>\n",
       "      <td>25</td>\n",
       "      <td>14</td>\n",
       "      <td>NaN</td>\n",
       "      <td>6.84</td>\n",
       "      <td>24.16</td>\n",
       "      <td>0.0</td>\n",
       "      <td>0.0</td>\n",
       "      <td>5.91</td>\n",
       "      <td>0.0</td>\n",
       "      <td>NaN</td>\n",
       "      <td>0.3</td>\n",
       "      <td>30.37</td>\n",
       "      <td>NaN</td>\n",
       "      <td>NaN</td>\n",
       "      <td>NaN</td>\n",
       "    </tr>\n",
       "    <tr>\n",
       "      <th>73715</th>\n",
       "      <td>2</td>\n",
       "      <td>1.656630e+15</td>\n",
       "      <td>1.656630e+15</td>\n",
       "      <td>NaN</td>\n",
       "      <td>NaN</td>\n",
       "      <td>106</td>\n",
       "      <td>137</td>\n",
       "      <td>NaN</td>\n",
       "      <td>8.47</td>\n",
       "      <td>32.69</td>\n",
       "      <td>0.0</td>\n",
       "      <td>0.0</td>\n",
       "      <td>4.97</td>\n",
       "      <td>0.0</td>\n",
       "      <td>NaN</td>\n",
       "      <td>0.3</td>\n",
       "      <td>40.71</td>\n",
       "      <td>NaN</td>\n",
       "      <td>NaN</td>\n",
       "      <td>NaN</td>\n",
       "    </tr>\n",
       "    <tr>\n",
       "      <th>73716</th>\n",
       "      <td>2</td>\n",
       "      <td>1.656630e+15</td>\n",
       "      <td>1.656630e+15</td>\n",
       "      <td>NaN</td>\n",
       "      <td>NaN</td>\n",
       "      <td>181</td>\n",
       "      <td>36</td>\n",
       "      <td>NaN</td>\n",
       "      <td>4.67</td>\n",
       "      <td>23.55</td>\n",
       "      <td>0.0</td>\n",
       "      <td>0.0</td>\n",
       "      <td>5.76</td>\n",
       "      <td>0.0</td>\n",
       "      <td>NaN</td>\n",
       "      <td>0.3</td>\n",
       "      <td>29.61</td>\n",
       "      <td>NaN</td>\n",
       "      <td>NaN</td>\n",
       "      <td>NaN</td>\n",
       "    </tr>\n",
       "    <tr>\n",
       "      <th>73717</th>\n",
       "      <td>2</td>\n",
       "      <td>1.656630e+15</td>\n",
       "      <td>1.656630e+15</td>\n",
       "      <td>NaN</td>\n",
       "      <td>NaN</td>\n",
       "      <td>255</td>\n",
       "      <td>61</td>\n",
       "      <td>NaN</td>\n",
       "      <td>3.59</td>\n",
       "      <td>17.24</td>\n",
       "      <td>0.0</td>\n",
       "      <td>0.0</td>\n",
       "      <td>2.00</td>\n",
       "      <td>0.0</td>\n",
       "      <td>NaN</td>\n",
       "      <td>0.3</td>\n",
       "      <td>19.54</td>\n",
       "      <td>NaN</td>\n",
       "      <td>NaN</td>\n",
       "      <td>NaN</td>\n",
       "    </tr>\n",
       "  </tbody>\n",
       "</table>\n",
       "</div>"
      ],
      "text/plain": [
       "       VendorID(Int64)  lpep_pickup_datetime(Int64)  \\\n",
       "73713                2                 1.656630e+15   \n",
       "73714                2                 1.656630e+15   \n",
       "73715                2                 1.656630e+15   \n",
       "73716                2                 1.656630e+15   \n",
       "73717                2                 1.656630e+15   \n",
       "\n",
       "       lpep_dropoff_datetime(Int64) store_and_fwd_flag(String)  \\\n",
       "73713                  1.656630e+15                        NaN   \n",
       "73714                  1.656630e+15                        NaN   \n",
       "73715                  1.656630e+15                        NaN   \n",
       "73716                  1.656630e+15                        NaN   \n",
       "73717                  1.656630e+15                        NaN   \n",
       "\n",
       "       RatecodeID(Double)  PULocationID(Int64)  DOLocationID(Int64)  \\\n",
       "73713                 NaN                   74                  169   \n",
       "73714                 NaN                   25                   14   \n",
       "73715                 NaN                  106                  137   \n",
       "73716                 NaN                  181                   36   \n",
       "73717                 NaN                  255                   61   \n",
       "\n",
       "       passenger_count(Double)  trip_distance(Double)  fare_amount(Double)  \\\n",
       "73713                      NaN                   2.86                18.66   \n",
       "73714                      NaN                   6.84                24.16   \n",
       "73715                      NaN                   8.47                32.69   \n",
       "73716                      NaN                   4.67                23.55   \n",
       "73717                      NaN                   3.59                17.24   \n",
       "\n",
       "       extra(Double)  mta_tax(Double)  tip_amount(Double)  \\\n",
       "73713            0.0              0.0                2.30   \n",
       "73714            0.0              0.0                5.91   \n",
       "73715            0.0              0.0                4.97   \n",
       "73716            0.0              0.0                5.76   \n",
       "73717            0.0              0.0                2.00   \n",
       "\n",
       "       tolls_amount(Double)  ehail_fee(Int32)  improvement_surcharge(Double)  \\\n",
       "73713                   0.0               NaN                            0.3   \n",
       "73714                   0.0               NaN                            0.3   \n",
       "73715                   0.0               NaN                            0.3   \n",
       "73716                   0.0               NaN                            0.3   \n",
       "73717                   0.0               NaN                            0.3   \n",
       "\n",
       "       total_amount(Double)  payment_type(Double)  trip_type(Double)  \\\n",
       "73713                 21.26                   NaN                NaN   \n",
       "73714                 30.37                   NaN                NaN   \n",
       "73715                 40.71                   NaN                NaN   \n",
       "73716                 29.61                   NaN                NaN   \n",
       "73717                 19.54                   NaN                NaN   \n",
       "\n",
       "       congestion_surcharge(Double)  \n",
       "73713                           NaN  \n",
       "73714                           NaN  \n",
       "73715                           NaN  \n",
       "73716                           NaN  \n",
       "73717                           NaN  "
      ]
     },
     "execution_count": 124,
     "metadata": {},
     "output_type": "execute_result"
    }
   ],
   "source": [
    "greentaxi.tail()"
   ]
  },
  {
   "cell_type": "code",
   "execution_count": 125,
   "id": "c88beed4",
   "metadata": {},
   "outputs": [
    {
     "data": {
      "text/plain": [
       "VendorID(Int64)                    int64\n",
       "lpep_pickup_datetime(Int64)      float64\n",
       "lpep_dropoff_datetime(Int64)     float64\n",
       "store_and_fwd_flag(String)        object\n",
       "RatecodeID(Double)               float64\n",
       "PULocationID(Int64)                int64\n",
       "DOLocationID(Int64)                int64\n",
       "passenger_count(Double)          float64\n",
       "trip_distance(Double)            float64\n",
       "fare_amount(Double)              float64\n",
       "extra(Double)                    float64\n",
       "mta_tax(Double)                  float64\n",
       "tip_amount(Double)               float64\n",
       "tolls_amount(Double)             float64\n",
       "ehail_fee(Int32)                 float64\n",
       "improvement_surcharge(Double)    float64\n",
       "total_amount(Double)             float64\n",
       "payment_type(Double)             float64\n",
       "trip_type(Double)                float64\n",
       "congestion_surcharge(Double)     float64\n",
       "dtype: object"
      ]
     },
     "execution_count": 125,
     "metadata": {},
     "output_type": "execute_result"
    }
   ],
   "source": [
    "greentaxi.dtypes"
   ]
  },
  {
   "cell_type": "code",
   "execution_count": 126,
   "id": "bdd26394",
   "metadata": {},
   "outputs": [
    {
     "data": {
      "text/plain": [
       "Index(['VendorID(Int64)', 'lpep_pickup_datetime(Int64)',\n",
       "       'lpep_dropoff_datetime(Int64)', 'store_and_fwd_flag(String)',\n",
       "       'RatecodeID(Double)', 'PULocationID(Int64)', 'DOLocationID(Int64)',\n",
       "       'passenger_count(Double)', 'trip_distance(Double)',\n",
       "       'fare_amount(Double)', 'extra(Double)', 'mta_tax(Double)',\n",
       "       'tip_amount(Double)', 'tolls_amount(Double)', 'ehail_fee(Int32)',\n",
       "       'improvement_surcharge(Double)', 'total_amount(Double)',\n",
       "       'payment_type(Double)', 'trip_type(Double)',\n",
       "       'congestion_surcharge(Double)'],\n",
       "      dtype='object')"
      ]
     },
     "execution_count": 126,
     "metadata": {},
     "output_type": "execute_result"
    }
   ],
   "source": [
    "greentaxi.columns # variables for the references "
   ]
  },
  {
   "cell_type": "code",
   "execution_count": 127,
   "id": "5878aec6",
   "metadata": {},
   "outputs": [
    {
     "data": {
      "text/html": [
       "<div>\n",
       "<style scoped>\n",
       "    .dataframe tbody tr th:only-of-type {\n",
       "        vertical-align: middle;\n",
       "    }\n",
       "\n",
       "    .dataframe tbody tr th {\n",
       "        vertical-align: top;\n",
       "    }\n",
       "\n",
       "    .dataframe thead th {\n",
       "        text-align: right;\n",
       "    }\n",
       "</style>\n",
       "<table border=\"1\" class=\"dataframe\">\n",
       "  <thead>\n",
       "    <tr style=\"text-align: right;\">\n",
       "      <th></th>\n",
       "      <th>VendorID(Int64)</th>\n",
       "      <th>lpep_pickup_datetime(Int64)</th>\n",
       "      <th>lpep_dropoff_datetime(Int64)</th>\n",
       "      <th>RatecodeID(Double)</th>\n",
       "      <th>PULocationID(Int64)</th>\n",
       "      <th>DOLocationID(Int64)</th>\n",
       "      <th>passenger_count(Double)</th>\n",
       "      <th>trip_distance(Double)</th>\n",
       "      <th>fare_amount(Double)</th>\n",
       "      <th>extra(Double)</th>\n",
       "      <th>mta_tax(Double)</th>\n",
       "      <th>tip_amount(Double)</th>\n",
       "      <th>tolls_amount(Double)</th>\n",
       "      <th>ehail_fee(Int32)</th>\n",
       "      <th>improvement_surcharge(Double)</th>\n",
       "      <th>total_amount(Double)</th>\n",
       "      <th>payment_type(Double)</th>\n",
       "      <th>trip_type(Double)</th>\n",
       "      <th>congestion_surcharge(Double)</th>\n",
       "    </tr>\n",
       "  </thead>\n",
       "  <tbody>\n",
       "    <tr>\n",
       "      <th>count</th>\n",
       "      <td>73718.000000</td>\n",
       "      <td>7.371800e+04</td>\n",
       "      <td>7.371800e+04</td>\n",
       "      <td>64436.000000</td>\n",
       "      <td>73718.000000</td>\n",
       "      <td>73718.000000</td>\n",
       "      <td>64436.000000</td>\n",
       "      <td>73718.000000</td>\n",
       "      <td>73718.000000</td>\n",
       "      <td>73718.000000</td>\n",
       "      <td>73718.000000</td>\n",
       "      <td>73718.000000</td>\n",
       "      <td>73718.000000</td>\n",
       "      <td>0.0</td>\n",
       "      <td>73718.000000</td>\n",
       "      <td>73718.000000</td>\n",
       "      <td>64436.000000</td>\n",
       "      <td>64435.000000</td>\n",
       "      <td>64436.000000</td>\n",
       "    </tr>\n",
       "    <tr>\n",
       "      <th>mean</th>\n",
       "      <td>1.856738</td>\n",
       "      <td>1.655327e+15</td>\n",
       "      <td>1.655328e+15</td>\n",
       "      <td>1.223291</td>\n",
       "      <td>101.139383</td>\n",
       "      <td>138.788179</td>\n",
       "      <td>1.283723</td>\n",
       "      <td>104.576467</td>\n",
       "      <td>15.671497</td>\n",
       "      <td>0.346503</td>\n",
       "      <td>0.412261</td>\n",
       "      <td>2.115920</td>\n",
       "      <td>0.277911</td>\n",
       "      <td>NaN</td>\n",
       "      <td>0.297037</td>\n",
       "      <td>19.793064</td>\n",
       "      <td>1.365743</td>\n",
       "      <td>1.046528</td>\n",
       "      <td>0.740933</td>\n",
       "    </tr>\n",
       "    <tr>\n",
       "      <th>std</th>\n",
       "      <td>0.350342</td>\n",
       "      <td>2.332966e+12</td>\n",
       "      <td>2.332833e+12</td>\n",
       "      <td>0.983430</td>\n",
       "      <td>64.883305</td>\n",
       "      <td>76.707941</td>\n",
       "      <td>0.909935</td>\n",
       "      <td>3609.883882</td>\n",
       "      <td>14.004140</td>\n",
       "      <td>0.650320</td>\n",
       "      <td>0.193454</td>\n",
       "      <td>3.250391</td>\n",
       "      <td>1.412800</td>\n",
       "      <td>NaN</td>\n",
       "      <td>0.036460</td>\n",
       "      <td>16.203584</td>\n",
       "      <td>0.498894</td>\n",
       "      <td>0.210626</td>\n",
       "      <td>1.220242</td>\n",
       "    </tr>\n",
       "    <tr>\n",
       "      <th>min</th>\n",
       "      <td>1.000000</td>\n",
       "      <td>1.230760e+15</td>\n",
       "      <td>1.230780e+15</td>\n",
       "      <td>1.000000</td>\n",
       "      <td>1.000000</td>\n",
       "      <td>1.000000</td>\n",
       "      <td>0.000000</td>\n",
       "      <td>0.000000</td>\n",
       "      <td>-85.000000</td>\n",
       "      <td>-4.500000</td>\n",
       "      <td>-0.500000</td>\n",
       "      <td>-0.960000</td>\n",
       "      <td>0.000000</td>\n",
       "      <td>NaN</td>\n",
       "      <td>-0.300000</td>\n",
       "      <td>-85.300000</td>\n",
       "      <td>1.000000</td>\n",
       "      <td>1.000000</td>\n",
       "      <td>-2.750000</td>\n",
       "    </tr>\n",
       "    <tr>\n",
       "      <th>25%</th>\n",
       "      <td>2.000000</td>\n",
       "      <td>1.654710e+15</td>\n",
       "      <td>1.654710e+15</td>\n",
       "      <td>1.000000</td>\n",
       "      <td>65.000000</td>\n",
       "      <td>74.000000</td>\n",
       "      <td>1.000000</td>\n",
       "      <td>1.170000</td>\n",
       "      <td>8.000000</td>\n",
       "      <td>0.000000</td>\n",
       "      <td>0.500000</td>\n",
       "      <td>0.000000</td>\n",
       "      <td>0.000000</td>\n",
       "      <td>NaN</td>\n",
       "      <td>0.300000</td>\n",
       "      <td>10.300000</td>\n",
       "      <td>1.000000</td>\n",
       "      <td>1.000000</td>\n",
       "      <td>0.000000</td>\n",
       "    </tr>\n",
       "    <tr>\n",
       "      <th>50%</th>\n",
       "      <td>2.000000</td>\n",
       "      <td>1.655320e+15</td>\n",
       "      <td>1.655320e+15</td>\n",
       "      <td>1.000000</td>\n",
       "      <td>75.000000</td>\n",
       "      <td>138.000000</td>\n",
       "      <td>1.000000</td>\n",
       "      <td>2.100000</td>\n",
       "      <td>11.500000</td>\n",
       "      <td>0.000000</td>\n",
       "      <td>0.500000</td>\n",
       "      <td>1.500000</td>\n",
       "      <td>0.000000</td>\n",
       "      <td>NaN</td>\n",
       "      <td>0.300000</td>\n",
       "      <td>15.360000</td>\n",
       "      <td>1.000000</td>\n",
       "      <td>1.000000</td>\n",
       "      <td>0.000000</td>\n",
       "    </tr>\n",
       "    <tr>\n",
       "      <th>75%</th>\n",
       "      <td>2.000000</td>\n",
       "      <td>1.655990e+15</td>\n",
       "      <td>1.655990e+15</td>\n",
       "      <td>1.000000</td>\n",
       "      <td>134.000000</td>\n",
       "      <td>219.000000</td>\n",
       "      <td>1.000000</td>\n",
       "      <td>3.910000</td>\n",
       "      <td>19.000000</td>\n",
       "      <td>0.500000</td>\n",
       "      <td>0.500000</td>\n",
       "      <td>3.010000</td>\n",
       "      <td>0.000000</td>\n",
       "      <td>NaN</td>\n",
       "      <td>0.300000</td>\n",
       "      <td>23.727500</td>\n",
       "      <td>2.000000</td>\n",
       "      <td>1.000000</td>\n",
       "      <td>2.750000</td>\n",
       "    </tr>\n",
       "    <tr>\n",
       "      <th>max</th>\n",
       "      <td>2.000000</td>\n",
       "      <td>1.656650e+15</td>\n",
       "      <td>1.656700e+15</td>\n",
       "      <td>99.000000</td>\n",
       "      <td>265.000000</td>\n",
       "      <td>265.000000</td>\n",
       "      <td>8.000000</td>\n",
       "      <td>292061.660000</td>\n",
       "      <td>399.500000</td>\n",
       "      <td>4.500000</td>\n",
       "      <td>3.550000</td>\n",
       "      <td>222.250000</td>\n",
       "      <td>31.750000</td>\n",
       "      <td>NaN</td>\n",
       "      <td>0.300000</td>\n",
       "      <td>400.300000</td>\n",
       "      <td>5.000000</td>\n",
       "      <td>2.000000</td>\n",
       "      <td>2.750000</td>\n",
       "    </tr>\n",
       "  </tbody>\n",
       "</table>\n",
       "</div>"
      ],
      "text/plain": [
       "       VendorID(Int64)  lpep_pickup_datetime(Int64)  \\\n",
       "count     73718.000000                 7.371800e+04   \n",
       "mean          1.856738                 1.655327e+15   \n",
       "std           0.350342                 2.332966e+12   \n",
       "min           1.000000                 1.230760e+15   \n",
       "25%           2.000000                 1.654710e+15   \n",
       "50%           2.000000                 1.655320e+15   \n",
       "75%           2.000000                 1.655990e+15   \n",
       "max           2.000000                 1.656650e+15   \n",
       "\n",
       "       lpep_dropoff_datetime(Int64)  RatecodeID(Double)  PULocationID(Int64)  \\\n",
       "count                  7.371800e+04        64436.000000         73718.000000   \n",
       "mean                   1.655328e+15            1.223291           101.139383   \n",
       "std                    2.332833e+12            0.983430            64.883305   \n",
       "min                    1.230780e+15            1.000000             1.000000   \n",
       "25%                    1.654710e+15            1.000000            65.000000   \n",
       "50%                    1.655320e+15            1.000000            75.000000   \n",
       "75%                    1.655990e+15            1.000000           134.000000   \n",
       "max                    1.656700e+15           99.000000           265.000000   \n",
       "\n",
       "       DOLocationID(Int64)  passenger_count(Double)  trip_distance(Double)  \\\n",
       "count         73718.000000             64436.000000           73718.000000   \n",
       "mean            138.788179                 1.283723             104.576467   \n",
       "std              76.707941                 0.909935            3609.883882   \n",
       "min               1.000000                 0.000000               0.000000   \n",
       "25%              74.000000                 1.000000               1.170000   \n",
       "50%             138.000000                 1.000000               2.100000   \n",
       "75%             219.000000                 1.000000               3.910000   \n",
       "max             265.000000                 8.000000          292061.660000   \n",
       "\n",
       "       fare_amount(Double)  extra(Double)  mta_tax(Double)  \\\n",
       "count         73718.000000   73718.000000     73718.000000   \n",
       "mean             15.671497       0.346503         0.412261   \n",
       "std              14.004140       0.650320         0.193454   \n",
       "min             -85.000000      -4.500000        -0.500000   \n",
       "25%               8.000000       0.000000         0.500000   \n",
       "50%              11.500000       0.000000         0.500000   \n",
       "75%              19.000000       0.500000         0.500000   \n",
       "max             399.500000       4.500000         3.550000   \n",
       "\n",
       "       tip_amount(Double)  tolls_amount(Double)  ehail_fee(Int32)  \\\n",
       "count        73718.000000          73718.000000               0.0   \n",
       "mean             2.115920              0.277911               NaN   \n",
       "std              3.250391              1.412800               NaN   \n",
       "min             -0.960000              0.000000               NaN   \n",
       "25%              0.000000              0.000000               NaN   \n",
       "50%              1.500000              0.000000               NaN   \n",
       "75%              3.010000              0.000000               NaN   \n",
       "max            222.250000             31.750000               NaN   \n",
       "\n",
       "       improvement_surcharge(Double)  total_amount(Double)  \\\n",
       "count                   73718.000000          73718.000000   \n",
       "mean                        0.297037             19.793064   \n",
       "std                         0.036460             16.203584   \n",
       "min                        -0.300000            -85.300000   \n",
       "25%                         0.300000             10.300000   \n",
       "50%                         0.300000             15.360000   \n",
       "75%                         0.300000             23.727500   \n",
       "max                         0.300000            400.300000   \n",
       "\n",
       "       payment_type(Double)  trip_type(Double)  congestion_surcharge(Double)  \n",
       "count          64436.000000       64435.000000                  64436.000000  \n",
       "mean               1.365743           1.046528                      0.740933  \n",
       "std                0.498894           0.210626                      1.220242  \n",
       "min                1.000000           1.000000                     -2.750000  \n",
       "25%                1.000000           1.000000                      0.000000  \n",
       "50%                1.000000           1.000000                      0.000000  \n",
       "75%                2.000000           1.000000                      2.750000  \n",
       "max                5.000000           2.000000                      2.750000  "
      ]
     },
     "execution_count": 127,
     "metadata": {},
     "output_type": "execute_result"
    }
   ],
   "source": [
    "greentaxi.describe() # Description of the data(the summary statistics of the numerical attributes in the data.)"
   ]
  },
  {
   "cell_type": "code",
   "execution_count": 128,
   "id": "010ffb7f",
   "metadata": {},
   "outputs": [
    {
     "data": {
      "text/plain": [
       "127"
      ]
     },
     "execution_count": 128,
     "metadata": {},
     "output_type": "execute_result"
    }
   ],
   "source": [
    "# checking for the duplicate values \n",
    " \n",
    "greentaxi.duplicated().sum()"
   ]
  },
  {
   "cell_type": "code",
   "execution_count": 129,
   "id": "14d397e4",
   "metadata": {},
   "outputs": [],
   "source": [
    "greentaxi.drop_duplicates(inplace=True)"
   ]
  },
  {
   "cell_type": "code",
   "execution_count": 130,
   "id": "57ed1e84",
   "metadata": {},
   "outputs": [
    {
     "data": {
      "text/plain": [
       "0"
      ]
     },
     "execution_count": 130,
     "metadata": {},
     "output_type": "execute_result"
    }
   ],
   "source": [
    "greentaxi.duplicated().sum() # we did not have any duplicate values"
   ]
  },
  {
   "cell_type": "code",
   "execution_count": 131,
   "id": "92944c63",
   "metadata": {},
   "outputs": [
    {
     "data": {
      "text/plain": [
       "(73591, 20)"
      ]
     },
     "execution_count": 131,
     "metadata": {},
     "output_type": "execute_result"
    }
   ],
   "source": [
    "greentaxi.shape"
   ]
  },
  {
   "cell_type": "code",
   "execution_count": 132,
   "id": "8b58f15f",
   "metadata": {},
   "outputs": [
    {
     "name": "stderr",
     "output_type": "stream",
     "text": [
      "C:\\Users\\DELL\\AppData\\Local\\Temp\\ipykernel_6052\\845650284.py:2: FutureWarning: The default value of regex will change from True to False in a future version.\n",
      "  greentaxi.columns=greentaxi.columns.str.replace(\n"
     ]
    }
   ],
   "source": [
    "# Remove the Data Types in Paranthesis from columns Names\n",
    "greentaxi.columns=greentaxi.columns.str.replace(\n",
    "    r\"\\(.*\\)?\",\"\")"
   ]
  },
  {
   "cell_type": "code",
   "execution_count": 243,
   "id": "3f963c13",
   "metadata": {},
   "outputs": [
    {
     "name": "stdout",
     "output_type": "stream",
     "text": [
      "<class 'pandas.core.frame.DataFrame'>\n",
      "Int64Index: 73591 entries, 0 to 73717\n",
      "Data columns (total 15 columns):\n",
      " #   Column                 Non-Null Count  Dtype  \n",
      "---  ------                 --------------  -----  \n",
      " 0   store_and_fwd_flag     73591 non-null  object \n",
      " 1   RatecodeID             73591 non-null  float64\n",
      " 2   passenger_count        73591 non-null  float64\n",
      " 3   trip_distance          73591 non-null  float64\n",
      " 4   fare_amount            73591 non-null  float64\n",
      " 5   extra                  73591 non-null  float64\n",
      " 6   mta_tax                73591 non-null  float64\n",
      " 7   tip_amount             73591 non-null  float64\n",
      " 8   tolls_amount           73591 non-null  float64\n",
      " 9   improvement_surcharge  73591 non-null  float64\n",
      " 10  total_amount           73591 non-null  float64\n",
      " 11  payment_type           73591 non-null  float64\n",
      " 12  trip_type              73591 non-null  float64\n",
      " 13  congestion_surcharge   73591 non-null  float64\n",
      " 14  weekday                73591 non-null  int64  \n",
      "dtypes: float64(13), int64(1), object(1)\n",
      "memory usage: 9.0+ MB\n"
     ]
    }
   ],
   "source": [
    "greentaxi.info()"
   ]
  },
  {
   "cell_type": "code",
   "execution_count": 134,
   "id": "0e804404",
   "metadata": {},
   "outputs": [
    {
     "name": "stdout",
     "output_type": "stream",
     "text": [
      "count    73591.000000\n",
      "mean        19.818593\n",
      "std         16.203990\n",
      "min        -85.300000\n",
      "25%         10.300000\n",
      "50%         15.360000\n",
      "75%         23.760000\n",
      "max        400.300000\n",
      "Name: total_amount, dtype: float64\n",
      "Skew: 4.082205798136926\n",
      "Kurt: 39.36328301640114\n"
     ]
    }
   ],
   "source": [
    "print(greentaxi.total_amount.describe())\n",
    "print(\"Skew:\",greentaxi.total_amount.skew())\n",
    "print(\"Kurt:\",greentaxi.total_amount.kurt())\n",
    "\n",
    "# very high positive skewness is there because we have outliers"
   ]
  },
  {
   "cell_type": "markdown",
   "id": "22e0da7e",
   "metadata": {},
   "source": [
    "# Univariate Analysis\n",
    "\n",
    "The univariate analysis involves studying patterns of all variables individually.\n",
    "\n",
    "Target Variable\n",
    "Let us start by analyzing the target variable."
   ]
  },
  {
   "cell_type": "code",
   "execution_count": 135,
   "id": "3ee9f529",
   "metadata": {},
   "outputs": [
    {
     "data": {
      "text/plain": [
       "<AxesSubplot:xlabel='total_amount', ylabel='Count'>"
      ]
     },
     "execution_count": 135,
     "metadata": {},
     "output_type": "execute_result"
    },
    {
     "data": {
      "image/png": "[encoded data removed]",
      "text/plain": [
       "<Figure size 640x480 with 1 Axes>"
      ]
     },
     "metadata": {},
     "output_type": "display_data"
    }
   ],
   "source": [
    "sns.histplot(greentaxi.total_amount)\n",
    "\n",
    "# The histogram is really skewed as we can see."
   ]
  },
  {
   "cell_type": "code",
   "execution_count": 136,
   "id": "29a89305",
   "metadata": {},
   "outputs": [
    {
     "name": "stderr",
     "output_type": "stream",
     "text": [
      "C:\\Users\\DELL\\anaconda3\\lib\\site-packages\\seaborn\\_decorators.py:36: FutureWarning: Pass the following variable as a keyword arg: x. From version 0.12, the only valid positional argument will be `data`, and passing other arguments without an explicit keyword will result in an error or misinterpretation.\n",
      "  warnings.warn(\n"
     ]
    },
    {
     "data": {
      "text/plain": [
       "<AxesSubplot:xlabel='total_amount'>"
      ]
     },
     "execution_count": 136,
     "metadata": {},
     "output_type": "execute_result"
    },
    {
     "data": {
      "image/png": "[encoded data removed]",
      "text/plain": [
       "<Figure size 640x480 with 1 Axes>"
      ]
     },
     "metadata": {},
     "output_type": "display_data"
    }
   ],
   "source": [
    "#greentaxi.total_amount.plot(kind='box',vert=False)\n",
    "sns.boxplot(greentaxi.total_amount)"
   ]
  },
  {
   "cell_type": "code",
   "execution_count": 137,
   "id": "8e66280a",
   "metadata": {},
   "outputs": [
    {
     "data": {
      "text/plain": [
       "<AxesSubplot:xlabel='total_amount', ylabel='Density'>"
      ]
     },
     "execution_count": 137,
     "metadata": {},
     "output_type": "execute_result"
    },
    {
     "data": {
      "image/png": "[encoded data removed]",
      "text/plain": [
       "<Figure size 640x480 with 1 Axes>"
      ]
     },
     "metadata": {},
     "output_type": "display_data"
    }
   ],
   "source": [
    "sns.kdeplot(greentaxi[\"total_amount\"],shade=True)"
   ]
  },
  {
   "cell_type": "code",
   "execution_count": 244,
   "id": "03c10040",
   "metadata": {},
   "outputs": [
    {
     "data": {
      "text/plain": [
       "1.0    64405\n",
       "2.0     5459\n",
       "5.0     1280\n",
       "6.0     1027\n",
       "3.0      931\n",
       "4.0      276\n",
       "0.0      201\n",
       "8.0        6\n",
       "7.0        6\n",
       "Name: passenger_count, dtype: int64"
      ]
     },
     "execution_count": 244,
     "metadata": {},
     "output_type": "execute_result"
    }
   ],
   "source": [
    "# Passenger Count\n",
    "greentaxi.passenger_count.value_counts()"
   ]
  },
  {
   "cell_type": "markdown",
   "id": "67946867",
   "metadata": {},
   "source": [
    "**There are some trips with even 0 passenger count.\n",
    "\n"
   ]
  },
  {
   "cell_type": "code",
   "execution_count": 246,
   "id": "af443b60",
   "metadata": {},
   "outputs": [
    {
     "data": {
      "text/plain": [
       "<AxesSubplot:xlabel='passenger_count', ylabel='count'>"
      ]
     },
     "execution_count": 246,
     "metadata": {},
     "output_type": "execute_result"
    },
    {
     "data": {
      "image/png": "[encoded data removed]",
      "text/plain": [
       "<Figure size 640x480 with 1 Axes>"
      ]
     },
     "metadata": {},
     "output_type": "display_data"
    }
   ],
   "source": [
    "#sns.countplot(greentaxi[\"passenger_count\"])\n",
    "sns.countplot(x='passenger_count',data=greentaxi)"
   ]
  },
  {
   "cell_type": "code",
   "execution_count": 248,
   "id": "68f7f5bb",
   "metadata": {},
   "outputs": [
    {
     "data": {
      "text/plain": [
       "0.00        4699\n",
       "1.40         574\n",
       "1.30         521\n",
       "1.10         443\n",
       "1.20         440\n",
       "            ... \n",
       "13.02          1\n",
       "14.39          1\n",
       "54.90          1\n",
       "15583.22       1\n",
       "23.05          1\n",
       "Name: trip_distance, Length: 2275, dtype: int64"
      ]
     },
     "execution_count": 248,
     "metadata": {},
     "output_type": "execute_result"
    }
   ],
   "source": [
    "## trip_distance\n",
    "greentaxi.trip_distance.value_counts()"
   ]
  },
  {
   "cell_type": "markdown",
   "id": "42003a1a",
   "metadata": {},
   "source": [
    "We see there are 4699 trips with 0 km distance.\n",
    "\n",
    "The reasons for 0 km distance can be:\n",
    "\n",
    "The dropoff location couldn’t be tracked.\n",
    "The driver deliberately took this ride to complete a target ride number.\n",
    "The passengers canceled the trip."
   ]
  },
  {
   "cell_type": "code",
   "execution_count": 249,
   "id": "ba4a501b",
   "metadata": {},
   "outputs": [
    {
     "data": {
      "text/plain": [
       "<AxesSubplot:xlabel='trip_distance', ylabel='count'>"
      ]
     },
     "execution_count": 249,
     "metadata": {},
     "output_type": "execute_result"
    },
    {
     "data": {
      "image/png": "[encoded data removed]",
      "text/plain": [
       "<Figure size 640x480 with 1 Axes>"
      ]
     },
     "metadata": {},
     "output_type": "display_data"
    }
   ],
   "source": [
    "sns.countplot(x='trip_distance',data=greentaxi)"
   ]
  },
  {
   "cell_type": "code",
   "execution_count": 250,
   "id": "c944d682",
   "metadata": {},
   "outputs": [
    {
     "data": {
      "text/plain": [
       "<AxesSubplot:xlabel='trip_distance', ylabel='Density'>"
      ]
     },
     "execution_count": 250,
     "metadata": {},
     "output_type": "execute_result"
    },
    {
     "data": {
      "image/png": "[encoded data removed]",
      "text/plain": [
       "<Figure size 640x480 with 1 Axes>"
      ]
     },
     "metadata": {},
     "output_type": "display_data"
    }
   ],
   "source": [
    "sns.kdeplot(greentaxi[\"trip_distance\"],shade=True)"
   ]
  },
  {
   "cell_type": "markdown",
   "id": "63b5aae6",
   "metadata": {},
   "source": [
    "# Bivariate Analysis\n",
    "Bivariate Analysis involves finding relationships, patterns, and correlations between two variables."
   ]
  },
  {
   "cell_type": "code",
   "execution_count": 254,
   "id": "021a444d",
   "metadata": {},
   "outputs": [
    {
     "data": {
      "image/png": "[encoded data removed]",
      "text/plain": [
       "<Figure size 640x480 with 1 Axes>"
      ]
     },
     "metadata": {},
     "output_type": "display_data"
    }
   ],
   "source": [
    "# Bar plot of total_amount and passenger_count\n",
    "sns.barplot(x=\"passenger_count\",y=\"total_amount\", data=greentaxi)\n",
    "plt.xlabel(\"passenger_count\")\n",
    "plt.ylabel(\"total_amount\")\n",
    "plt.title(\"Bar Plot of total_amount and passenger_count\")\n",
    "plt.show()"
   ]
  },
  {
   "cell_type": "code",
   "execution_count": 253,
   "id": "05eb6207",
   "metadata": {},
   "outputs": [
    {
     "data": {
      "image/png": "[encoded data removed]",
      "text/plain": [
       "<Figure size 640x480 with 1 Axes>"
      ]
     },
     "metadata": {},
     "output_type": "display_data"
    }
   ],
   "source": [
    "# Bar plot of total_amount and weekday\n",
    "sns.barplot(x=\"weekday\",y=\"total_amount\", data=greentaxi)\n",
    "plt.xlabel(\"weekday\")\n",
    "plt.ylabel(\"total_amount\")\n",
    "plt.title(\"Bar Plot of total_amount and weekday\")\n",
    "plt.show()"
   ]
  },
  {
   "cell_type": "code",
   "execution_count": 256,
   "id": "5d38facb",
   "metadata": {},
   "outputs": [
    {
     "data": {
      "image/png": "[encoded data removed]",
      "text/plain": [
       "<Figure size 640x480 with 1 Axes>"
      ]
     },
     "metadata": {},
     "output_type": "display_data"
    }
   ],
   "source": [
    "sns.lineplot(x=\"trip_distance\",y=\"total_amount\",data=greentaxi)\n",
    "plt.xlabel(\"trip_distance\")\n",
    "plt.ylabel(\"total_amount\")\n",
    "plt.title(\"Line Plot of total_amount and trip_distance\")\n",
    "plt.show()"
   ]
  },
  {
   "cell_type": "code",
   "execution_count": 257,
   "id": "0fef5817",
   "metadata": {},
   "outputs": [
    {
     "data": {
      "image/png": "[encoded data removed]",
      "text/plain": [
       "<Figure size 640x480 with 1 Axes>"
      ]
     },
     "metadata": {},
     "output_type": "display_data"
    }
   ],
   "source": [
    "# Bar plot of weekday and passenger_count\n",
    "sns.barplot(x=\"weekday\",y=\"passenger_count\", data=greentaxi)\n",
    "plt.xlabel(\"weekday\")\n",
    "plt.ylabel(\"passenger_count\")\n",
    "plt.title(\"Bar Plot of weekday and passenger_count\")\n",
    "plt.show()"
   ]
  },
  {
   "cell_type": "code",
   "execution_count": 138,
   "id": "994a22e7",
   "metadata": {},
   "outputs": [],
   "source": [
    "# Drop unnessary Colunm\n",
    "greentaxi=greentaxi.drop(('ehail_fee'),axis=1)"
   ]
  },
  {
   "cell_type": "code",
   "execution_count": 139,
   "id": "c09dffd9",
   "metadata": {},
   "outputs": [
    {
     "data": {
      "text/plain": [
       "trip_type                9283\n",
       "congestion_surcharge     9282\n",
       "store_and_fwd_flag       9282\n",
       "RatecodeID               9282\n",
       "payment_type             9282\n",
       "passenger_count          9282\n",
       "mta_tax                     0\n",
       "total_amount                0\n",
       "improvement_surcharge       0\n",
       "tolls_amount                0\n",
       "tip_amount                  0\n",
       "VendorID                    0\n",
       "extra                       0\n",
       "lpep_pickup_datetime        0\n",
       "trip_distance               0\n",
       "DOLocationID                0\n",
       "PULocationID                0\n",
       "lpep_dropoff_datetime       0\n",
       "fare_amount                 0\n",
       "dtype: int64"
      ]
     },
     "execution_count": 139,
     "metadata": {},
     "output_type": "execute_result"
    }
   ],
   "source": [
    "# Checking for the Missing values \n",
    "greentaxi.isnull().sum().sort_values(ascending=False) # isnull is a function for missing values\n"
   ]
  },
  {
   "cell_type": "code",
   "execution_count": 140,
   "id": "aedbd5f2",
   "metadata": {},
   "outputs": [
    {
     "data": {
      "text/plain": [
       "1.0    61312\n",
       "NaN     9283\n",
       "2.0     2996\n",
       "Name: trip_type, dtype: int64"
      ]
     },
     "execution_count": 140,
     "metadata": {},
     "output_type": "execute_result"
    }
   ],
   "source": [
    "greentaxi.trip_type.value_counts(dropna=False) # trip_type is a categorical data"
   ]
  },
  {
   "cell_type": "code",
   "execution_count": 141,
   "id": "6ecc49ae",
   "metadata": {},
   "outputs": [],
   "source": [
    "greentaxi.trip_type=greentaxi.trip_type.fillna(1.0)"
   ]
  },
  {
   "cell_type": "code",
   "execution_count": 142,
   "id": "ff935eaa",
   "metadata": {},
   "outputs": [
    {
     "data": {
      "text/plain": [
       "count    64309.000000\n",
       "mean         0.742268\n",
       "std          1.220935\n",
       "min         -2.750000\n",
       "25%          0.000000\n",
       "50%          0.000000\n",
       "75%          2.750000\n",
       "max          2.750000\n",
       "Name: congestion_surcharge, dtype: float64"
      ]
     },
     "execution_count": 142,
     "metadata": {},
     "output_type": "execute_result"
    }
   ],
   "source": [
    "greentaxi.congestion_surcharge.describe() # congestion_surcharge is a numeric "
   ]
  },
  {
   "cell_type": "code",
   "execution_count": 143,
   "id": "a0953526",
   "metadata": {},
   "outputs": [],
   "source": [
    "greentaxi.congestion_surcharge=greentaxi.congestion_surcharge.fillna(0)"
   ]
  },
  {
   "cell_type": "code",
   "execution_count": 144,
   "id": "16eb2a7d",
   "metadata": {},
   "outputs": [
    {
     "data": {
      "text/plain": [
       "N      63511\n",
       "NaN     9282\n",
       "Y        798\n",
       "Name: store_and_fwd_flag, dtype: int64"
      ]
     },
     "execution_count": 144,
     "metadata": {},
     "output_type": "execute_result"
    }
   ],
   "source": [
    "greentaxi.store_and_fwd_flag.value_counts(dropna=False) # store_and_fwd_flag is a categorical "
   ]
  },
  {
   "cell_type": "code",
   "execution_count": 145,
   "id": "a7343734",
   "metadata": {},
   "outputs": [],
   "source": [
    "greentaxi.store_and_fwd_flag=greentaxi.store_and_fwd_flag.fillna(\"N\")"
   ]
  },
  {
   "cell_type": "code",
   "execution_count": 146,
   "id": "b4e723bd",
   "metadata": {},
   "outputs": [
    {
     "data": {
      "text/plain": [
       "1.0    41271\n",
       "2.0    22650\n",
       "NaN     9282\n",
       "3.0      317\n",
       "4.0       69\n",
       "5.0        2\n",
       "Name: payment_type, dtype: int64"
      ]
     },
     "execution_count": 146,
     "metadata": {},
     "output_type": "execute_result"
    }
   ],
   "source": [
    "greentaxi.payment_type.value_counts(dropna=False)"
   ]
  },
  {
   "cell_type": "code",
   "execution_count": 147,
   "id": "2acb47f1",
   "metadata": {},
   "outputs": [],
   "source": [
    "greentaxi.payment_type=greentaxi.payment_type.fillna(1.0)"
   ]
  },
  {
   "cell_type": "code",
   "execution_count": 148,
   "id": "054a79b0",
   "metadata": {},
   "outputs": [
    {
     "data": {
      "text/plain": [
       "count    64309.000000\n",
       "mean         1.284268\n",
       "std          0.910708\n",
       "min          0.000000\n",
       "25%          1.000000\n",
       "50%          1.000000\n",
       "75%          1.000000\n",
       "max          8.000000\n",
       "Name: passenger_count, dtype: float64"
      ]
     },
     "execution_count": 148,
     "metadata": {},
     "output_type": "execute_result"
    }
   ],
   "source": [
    "greentaxi.passenger_count.describe()"
   ]
  },
  {
   "cell_type": "code",
   "execution_count": 149,
   "id": "348a0bbb",
   "metadata": {},
   "outputs": [],
   "source": [
    "greentaxi.passenger_count=greentaxi.passenger_count.fillna(1.0)"
   ]
  },
  {
   "cell_type": "code",
   "execution_count": 150,
   "id": "e1b015ce",
   "metadata": {},
   "outputs": [
    {
     "data": {
      "text/plain": [
       "1.0     60486\n",
       "5.0      3427\n",
       "2.0       281\n",
       "4.0        65\n",
       "3.0        49\n",
       "99.0        1\n",
       "Name: RatecodeID, dtype: int64"
      ]
     },
     "execution_count": 150,
     "metadata": {},
     "output_type": "execute_result"
    }
   ],
   "source": [
    "greentaxi.RatecodeID.value_counts(False)"
   ]
  },
  {
   "cell_type": "code",
   "execution_count": 151,
   "id": "50edec45",
   "metadata": {},
   "outputs": [],
   "source": [
    "greentaxi.RatecodeID=greentaxi.RatecodeID.fillna(1.0)"
   ]
  },
  {
   "cell_type": "code",
   "execution_count": 152,
   "id": "8a123fb9",
   "metadata": {},
   "outputs": [],
   "source": [
    "# Missing Values is done now "
   ]
  },
  {
   "cell_type": "code",
   "execution_count": 153,
   "id": "730a3951",
   "metadata": {},
   "outputs": [
    {
     "data": {
      "text/html": [
       "<div>\n",
       "<style scoped>\n",
       "    .dataframe tbody tr th:only-of-type {\n",
       "        vertical-align: middle;\n",
       "    }\n",
       "\n",
       "    .dataframe tbody tr th {\n",
       "        vertical-align: top;\n",
       "    }\n",
       "\n",
       "    .dataframe thead th {\n",
       "        text-align: right;\n",
       "    }\n",
       "</style>\n",
       "<table border=\"1\" class=\"dataframe\">\n",
       "  <thead>\n",
       "    <tr style=\"text-align: right;\">\n",
       "      <th></th>\n",
       "      <th>VendorID</th>\n",
       "      <th>lpep_pickup_datetime</th>\n",
       "      <th>lpep_dropoff_datetime</th>\n",
       "      <th>store_and_fwd_flag</th>\n",
       "      <th>RatecodeID</th>\n",
       "      <th>PULocationID</th>\n",
       "      <th>DOLocationID</th>\n",
       "      <th>passenger_count</th>\n",
       "      <th>trip_distance</th>\n",
       "      <th>fare_amount</th>\n",
       "      <th>extra</th>\n",
       "      <th>mta_tax</th>\n",
       "      <th>tip_amount</th>\n",
       "      <th>tolls_amount</th>\n",
       "      <th>improvement_surcharge</th>\n",
       "      <th>total_amount</th>\n",
       "      <th>payment_type</th>\n",
       "      <th>trip_type</th>\n",
       "      <th>congestion_surcharge</th>\n",
       "    </tr>\n",
       "  </thead>\n",
       "  <tbody>\n",
       "    <tr>\n",
       "      <th>0</th>\n",
       "      <td>2</td>\n",
       "      <td>1.654040e+15</td>\n",
       "      <td>1.654040e+15</td>\n",
       "      <td>N</td>\n",
       "      <td>1.0</td>\n",
       "      <td>134</td>\n",
       "      <td>216</td>\n",
       "      <td>2.0</td>\n",
       "      <td>2.03</td>\n",
       "      <td>7.5</td>\n",
       "      <td>0.5</td>\n",
       "      <td>0.5</td>\n",
       "      <td>2.64</td>\n",
       "      <td>0.0</td>\n",
       "      <td>0.3</td>\n",
       "      <td>11.44</td>\n",
       "      <td>1.0</td>\n",
       "      <td>1.0</td>\n",
       "      <td>0.0</td>\n",
       "    </tr>\n",
       "    <tr>\n",
       "      <th>1</th>\n",
       "      <td>2</td>\n",
       "      <td>1.654050e+15</td>\n",
       "      <td>1.654050e+15</td>\n",
       "      <td>N</td>\n",
       "      <td>1.0</td>\n",
       "      <td>134</td>\n",
       "      <td>216</td>\n",
       "      <td>2.0</td>\n",
       "      <td>4.26</td>\n",
       "      <td>14.5</td>\n",
       "      <td>0.5</td>\n",
       "      <td>0.5</td>\n",
       "      <td>3.16</td>\n",
       "      <td>0.0</td>\n",
       "      <td>0.3</td>\n",
       "      <td>18.96</td>\n",
       "      <td>1.0</td>\n",
       "      <td>1.0</td>\n",
       "      <td>0.0</td>\n",
       "    </tr>\n",
       "    <tr>\n",
       "      <th>2</th>\n",
       "      <td>2</td>\n",
       "      <td>1.654040e+15</td>\n",
       "      <td>1.654040e+15</td>\n",
       "      <td>N</td>\n",
       "      <td>5.0</td>\n",
       "      <td>53</td>\n",
       "      <td>53</td>\n",
       "      <td>1.0</td>\n",
       "      <td>0.00</td>\n",
       "      <td>15.0</td>\n",
       "      <td>0.0</td>\n",
       "      <td>0.0</td>\n",
       "      <td>4.59</td>\n",
       "      <td>0.0</td>\n",
       "      <td>0.3</td>\n",
       "      <td>19.89</td>\n",
       "      <td>1.0</td>\n",
       "      <td>2.0</td>\n",
       "      <td>0.0</td>\n",
       "    </tr>\n",
       "    <tr>\n",
       "      <th>3</th>\n",
       "      <td>2</td>\n",
       "      <td>1.654040e+15</td>\n",
       "      <td>1.654040e+15</td>\n",
       "      <td>N</td>\n",
       "      <td>1.0</td>\n",
       "      <td>65</td>\n",
       "      <td>17</td>\n",
       "      <td>1.0</td>\n",
       "      <td>1.78</td>\n",
       "      <td>9.5</td>\n",
       "      <td>0.5</td>\n",
       "      <td>0.5</td>\n",
       "      <td>1.00</td>\n",
       "      <td>0.0</td>\n",
       "      <td>0.3</td>\n",
       "      <td>11.80</td>\n",
       "      <td>1.0</td>\n",
       "      <td>1.0</td>\n",
       "      <td>0.0</td>\n",
       "    </tr>\n",
       "    <tr>\n",
       "      <th>4</th>\n",
       "      <td>2</td>\n",
       "      <td>1.654040e+15</td>\n",
       "      <td>1.654040e+15</td>\n",
       "      <td>N</td>\n",
       "      <td>1.0</td>\n",
       "      <td>41</td>\n",
       "      <td>159</td>\n",
       "      <td>3.0</td>\n",
       "      <td>3.10</td>\n",
       "      <td>13.0</td>\n",
       "      <td>0.5</td>\n",
       "      <td>0.5</td>\n",
       "      <td>0.00</td>\n",
       "      <td>0.0</td>\n",
       "      <td>0.3</td>\n",
       "      <td>14.30</td>\n",
       "      <td>2.0</td>\n",
       "      <td>1.0</td>\n",
       "      <td>0.0</td>\n",
       "    </tr>\n",
       "  </tbody>\n",
       "</table>\n",
       "</div>"
      ],
      "text/plain": [
       "   VendorID  lpep_pickup_datetime  lpep_dropoff_datetime store_and_fwd_flag  \\\n",
       "0         2          1.654040e+15           1.654040e+15                  N   \n",
       "1         2          1.654050e+15           1.654050e+15                  N   \n",
       "2         2          1.654040e+15           1.654040e+15                  N   \n",
       "3         2          1.654040e+15           1.654040e+15                  N   \n",
       "4         2          1.654040e+15           1.654040e+15                  N   \n",
       "\n",
       "   RatecodeID  PULocationID  DOLocationID  passenger_count  trip_distance  \\\n",
       "0         1.0           134           216              2.0           2.03   \n",
       "1         1.0           134           216              2.0           4.26   \n",
       "2         5.0            53            53              1.0           0.00   \n",
       "3         1.0            65            17              1.0           1.78   \n",
       "4         1.0            41           159              3.0           3.10   \n",
       "\n",
       "   fare_amount  extra  mta_tax  tip_amount  tolls_amount  \\\n",
       "0          7.5    0.5      0.5        2.64           0.0   \n",
       "1         14.5    0.5      0.5        3.16           0.0   \n",
       "2         15.0    0.0      0.0        4.59           0.0   \n",
       "3          9.5    0.5      0.5        1.00           0.0   \n",
       "4         13.0    0.5      0.5        0.00           0.0   \n",
       "\n",
       "   improvement_surcharge  total_amount  payment_type  trip_type  \\\n",
       "0                    0.3         11.44           1.0        1.0   \n",
       "1                    0.3         18.96           1.0        1.0   \n",
       "2                    0.3         19.89           1.0        2.0   \n",
       "3                    0.3         11.80           1.0        1.0   \n",
       "4                    0.3         14.30           2.0        1.0   \n",
       "\n",
       "   congestion_surcharge  \n",
       "0                   0.0  \n",
       "1                   0.0  \n",
       "2                   0.0  \n",
       "3                   0.0  \n",
       "4                   0.0  "
      ]
     },
     "execution_count": 153,
     "metadata": {},
     "output_type": "execute_result"
    }
   ],
   "source": [
    "greentaxi.head()"
   ]
  },
  {
   "cell_type": "code",
   "execution_count": 154,
   "id": "a81724a1",
   "metadata": {},
   "outputs": [],
   "source": [
    "# Pickup and droff is into nano second , so we need to convert them into date time "
   ]
  },
  {
   "cell_type": "code",
   "execution_count": 155,
   "id": "fa263fbc",
   "metadata": {},
   "outputs": [],
   "source": [
    "greentaxi.lpep_pickup_datetime=greentaxi.lpep_pickup_datetime.astype('int64')/10**6\n",
    "# we have converted the lpep_pickup_datetime into data and time"
   ]
  },
  {
   "cell_type": "code",
   "execution_count": 156,
   "id": "15a4c50d",
   "metadata": {},
   "outputs": [],
   "source": [
    "greentaxi['pickup']=pd.to_datetime(greentaxi.lpep_pickup_datetime,unit='s')"
   ]
  },
  {
   "cell_type": "code",
   "execution_count": 157,
   "id": "1072b8d8",
   "metadata": {},
   "outputs": [],
   "source": [
    "greentaxi.lpep_dropoff_datetime=greentaxi.lpep_dropoff_datetime.astype('int64')/10**6"
   ]
  },
  {
   "cell_type": "code",
   "execution_count": 158,
   "id": "a482915e",
   "metadata": {},
   "outputs": [],
   "source": [
    "greentaxi['dropoff']=pd.to_datetime(greentaxi.lpep_dropoff_datetime,unit='s')"
   ]
  },
  {
   "cell_type": "code",
   "execution_count": 159,
   "id": "5b277757",
   "metadata": {},
   "outputs": [
    {
     "name": "stdout",
     "output_type": "stream",
     "text": [
      "<class 'pandas.core.frame.DataFrame'>\n",
      "Int64Index: 73591 entries, 0 to 73717\n",
      "Data columns (total 21 columns):\n",
      " #   Column                 Non-Null Count  Dtype         \n",
      "---  ------                 --------------  -----         \n",
      " 0   VendorID               73591 non-null  int64         \n",
      " 1   lpep_pickup_datetime   73591 non-null  float64       \n",
      " 2   lpep_dropoff_datetime  73591 non-null  float64       \n",
      " 3   store_and_fwd_flag     73591 non-null  object        \n",
      " 4   RatecodeID             73591 non-null  float64       \n",
      " 5   PULocationID           73591 non-null  int64         \n",
      " 6   DOLocationID           73591 non-null  int64         \n",
      " 7   passenger_count        73591 non-null  float64       \n",
      " 8   trip_distance          73591 non-null  float64       \n",
      " 9   fare_amount            73591 non-null  float64       \n",
      " 10  extra                  73591 non-null  float64       \n",
      " 11  mta_tax                73591 non-null  float64       \n",
      " 12  tip_amount             73591 non-null  float64       \n",
      " 13  tolls_amount           73591 non-null  float64       \n",
      " 14  improvement_surcharge  73591 non-null  float64       \n",
      " 15  total_amount           73591 non-null  float64       \n",
      " 16  payment_type           73591 non-null  float64       \n",
      " 17  trip_type              73591 non-null  float64       \n",
      " 18  congestion_surcharge   73591 non-null  float64       \n",
      " 19  pickup                 73591 non-null  datetime64[ns]\n",
      " 20  dropoff                73591 non-null  datetime64[ns]\n",
      "dtypes: datetime64[ns](2), float64(15), int64(3), object(1)\n",
      "memory usage: 12.4+ MB\n"
     ]
    }
   ],
   "source": [
    "greentaxi.info()"
   ]
  },
  {
   "cell_type": "code",
   "execution_count": 160,
   "id": "431729b2",
   "metadata": {},
   "outputs": [],
   "source": [
    "# Drop unnessary columns "
   ]
  },
  {
   "cell_type": "code",
   "execution_count": 161,
   "id": "b2bb8ece",
   "metadata": {},
   "outputs": [
    {
     "data": {
      "text/plain": [
       "Index(['VendorID', 'lpep_pickup_datetime', 'lpep_dropoff_datetime',\n",
       "       'store_and_fwd_flag', 'RatecodeID', 'PULocationID', 'DOLocationID',\n",
       "       'passenger_count', 'trip_distance', 'fare_amount', 'extra', 'mta_tax',\n",
       "       'tip_amount', 'tolls_amount', 'improvement_surcharge', 'total_amount',\n",
       "       'payment_type', 'trip_type', 'congestion_surcharge', 'pickup',\n",
       "       'dropoff'],\n",
       "      dtype='object')"
      ]
     },
     "execution_count": 161,
     "metadata": {},
     "output_type": "execute_result"
    }
   ],
   "source": [
    "greentaxi.columns"
   ]
  },
  {
   "cell_type": "code",
   "execution_count": 162,
   "id": "cd3f75b6",
   "metadata": {},
   "outputs": [],
   "source": [
    "greentaxi=greentaxi.drop(['VendorID', 'lpep_pickup_datetime', 'lpep_dropoff_datetime','PULocationID', 'DOLocationID'],axis=1)"
   ]
  },
  {
   "cell_type": "code",
   "execution_count": 163,
   "id": "fedc717b",
   "metadata": {},
   "outputs": [],
   "source": [
    "# we can drop pickup and dropoff also as it is only the one day data and we are not getting any info "
   ]
  },
  {
   "cell_type": "code",
   "execution_count": 164,
   "id": "a86b1ec6",
   "metadata": {},
   "outputs": [],
   "source": [
    "greentaxi['weekday']=greentaxi.dropoff.dt.weekday"
   ]
  },
  {
   "cell_type": "code",
   "execution_count": 165,
   "id": "0eec61a4",
   "metadata": {},
   "outputs": [
    {
     "data": {
      "text/plain": [
       "3    13225\n",
       "2    12959\n",
       "4    11005\n",
       "1    10059\n",
       "0     9281\n",
       "5     8957\n",
       "6     8105\n",
       "Name: weekday, dtype: int64"
      ]
     },
     "execution_count": 165,
     "metadata": {},
     "output_type": "execute_result"
    }
   ],
   "source": [
    "greentaxi.weekday.value_counts()\n",
    "# on wednesday there are lots of trips"
   ]
  },
  {
   "cell_type": "code",
   "execution_count": 166,
   "id": "4c56a95e",
   "metadata": {},
   "outputs": [],
   "source": [
    "greentaxi=greentaxi.drop(['pickup', 'dropoff'],axis=1)"
   ]
  },
  {
   "cell_type": "markdown",
   "id": "edc52b55",
   "metadata": {},
   "source": [
    "# Hypothesis Testing"
   ]
  },
  {
   "cell_type": "code",
   "execution_count": 167,
   "id": "ba92fb9f",
   "metadata": {},
   "outputs": [
    {
     "data": {
      "text/plain": [
       "trip_type\n",
       "1.0    19.165568\n",
       "2.0    35.205868\n",
       "Name: total_amount, dtype: float64"
      ]
     },
     "execution_count": 167,
     "metadata": {},
     "output_type": "execute_result"
    }
   ],
   "source": [
    "greentaxi.total_amount.groupby(greentaxi.trip_type).mean()"
   ]
  },
  {
   "cell_type": "code",
   "execution_count": 168,
   "id": "61e9ec4d",
   "metadata": {},
   "outputs": [
    {
     "data": {
      "text/plain": [
       "trip_type\n",
       "1.0     220.10\n",
       "2.0    1016.68\n",
       "Name: total_amount, dtype: float64"
      ]
     },
     "execution_count": 168,
     "metadata": {},
     "output_type": "execute_result"
    }
   ],
   "source": [
    "# For 2 Sample Independent T test - Variance difference is also checked\n",
    "np.round(greentaxi.total_amount.groupby(greentaxi.trip_type).var(),2)"
   ]
  },
  {
   "cell_type": "code",
   "execution_count": 169,
   "id": "3c118260",
   "metadata": {},
   "outputs": [],
   "source": [
    "# Test Null Average total_amount of different trip equal\n",
    "type1=greentaxi[greentaxi.trip_type==1.0]\n",
    "type2=greentaxi[greentaxi.trip_type==2.0]"
   ]
  },
  {
   "cell_type": "code",
   "execution_count": 170,
   "id": "6ed3babf",
   "metadata": {},
   "outputs": [],
   "source": [
    "from scipy.stats import ttest_ind"
   ]
  },
  {
   "cell_type": "code",
   "execution_count": 171,
   "id": "8c1dbc9d",
   "metadata": {},
   "outputs": [
    {
     "data": {
      "text/plain": [
       "Ttest_indResult(statistic=-27.409767437769037, pvalue=4.692687086703642e-148)"
      ]
     },
     "execution_count": 171,
     "metadata": {},
     "output_type": "execute_result"
    }
   ],
   "source": [
    "ttest_ind(type1.total_amount,type2.total_amount,equal_var=False)\n",
    "# since p-value is 4.692687086703642e-148 which is less than 0.05\n",
    "# Reject Null\n",
    "# Null - There is no significant difference in Average total_amount of different trip_type"
   ]
  },
  {
   "cell_type": "code",
   "execution_count": 172,
   "id": "13b34ab4",
   "metadata": {},
   "outputs": [
    {
     "data": {
      "text/plain": [
       "weekday\n",
       "0    19.387942\n",
       "1    19.486843\n",
       "2    19.510549\n",
       "3    19.802879\n",
       "4    20.331547\n",
       "5    20.000608\n",
       "6    20.343986\n",
       "Name: total_amount, dtype: float64"
      ]
     },
     "execution_count": 172,
     "metadata": {},
     "output_type": "execute_result"
    }
   ],
   "source": [
    "# Test Null Average total_amount of different weekday equal\n",
    "greentaxi.total_amount.groupby(greentaxi.weekday).mean()"
   ]
  },
  {
   "cell_type": "markdown",
   "id": "c228de10",
   "metadata": {},
   "source": [
    "# Anova Single Factor or Oneway Anova\n",
    "One Variable Numerical and Other variable Categorical with more than\n",
    "2 Levels/Groups/Classes - Anova Single Factor or Oneway Anova"
   ]
  },
  {
   "cell_type": "code",
   "execution_count": 173,
   "id": "5744f799",
   "metadata": {},
   "outputs": [],
   "source": [
    "wd0=greentaxi[greentaxi.weekday==0]\n",
    "wd1=greentaxi[greentaxi.weekday==1]\n",
    "wd2=greentaxi[greentaxi.weekday==2]\n",
    "wd3=greentaxi[greentaxi.weekday==3]\n",
    "wd4=greentaxi[greentaxi.weekday==4]\n",
    "wd5=greentaxi[greentaxi.weekday==5]\n",
    "wd6=greentaxi[greentaxi.weekday==6]"
   ]
  },
  {
   "cell_type": "code",
   "execution_count": 174,
   "id": "7467132d",
   "metadata": {},
   "outputs": [
    {
     "name": "stdout",
     "output_type": "stream",
     "text": [
      "(9281, 15)\n",
      "(10059, 15)\n",
      "(12959, 15)\n",
      "(13225, 15)\n",
      "(11005, 15)\n",
      "(8957, 15)\n",
      "(8105, 15)\n"
     ]
    }
   ],
   "source": [
    "print(wd0.shape)\n",
    "print(wd1.shape)\n",
    "print(wd2.shape)\n",
    "print(wd3.shape)\n",
    "print(wd4.shape)\n",
    "print(wd5.shape)\n",
    "print(wd6.shape)"
   ]
  },
  {
   "cell_type": "code",
   "execution_count": 175,
   "id": "91de961a",
   "metadata": {},
   "outputs": [],
   "source": [
    "from scipy.stats import f_oneway"
   ]
  },
  {
   "cell_type": "code",
   "execution_count": 176,
   "id": "29568335",
   "metadata": {},
   "outputs": [
    {
     "data": {
      "text/plain": [
       "F_onewayResult(statistic=6.026903365441741, pvalue=2.5735570508478754e-06)"
      ]
     },
     "execution_count": 176,
     "metadata": {},
     "output_type": "execute_result"
    }
   ],
   "source": [
    "f_oneway(wd0.total_amount,wd1.total_amount,wd2.total_amount,wd3.total_amount,wd4.total_amount,wd5.total_amount,\n",
    "        wd6.total_amount)\n",
    "\n",
    "# Since pvalue=2.5735570508478754e-06 is less than 0.05 \n",
    "# Reject Null. Difference in mean is statistically significant"
   ]
  },
  {
   "cell_type": "markdown",
   "id": "c37a399f",
   "metadata": {},
   "source": [
    "# Chi Square Test of Independence\n",
    "Both Variables are Non Numeric and Categorical\n",
    "**Input of this test is Cross Tabulation\n",
    "**Null - There is No Association between both variables\n",
    "**Alt - There is Association between both variables\n"
   ]
  },
  {
   "cell_type": "code",
   "execution_count": 177,
   "id": "cb67c009",
   "metadata": {},
   "outputs": [
    {
     "data": {
      "text/html": [
       "<div>\n",
       "<style scoped>\n",
       "    .dataframe tbody tr th:only-of-type {\n",
       "        vertical-align: middle;\n",
       "    }\n",
       "\n",
       "    .dataframe tbody tr th {\n",
       "        vertical-align: top;\n",
       "    }\n",
       "\n",
       "    .dataframe thead th {\n",
       "        text-align: right;\n",
       "    }\n",
       "</style>\n",
       "<table border=\"1\" class=\"dataframe\">\n",
       "  <thead>\n",
       "    <tr style=\"text-align: right;\">\n",
       "      <th>payment_type</th>\n",
       "      <th>1.0</th>\n",
       "      <th>2.0</th>\n",
       "      <th>3.0</th>\n",
       "      <th>4.0</th>\n",
       "      <th>5.0</th>\n",
       "    </tr>\n",
       "    <tr>\n",
       "      <th>weekday</th>\n",
       "      <th></th>\n",
       "      <th></th>\n",
       "      <th></th>\n",
       "      <th></th>\n",
       "      <th></th>\n",
       "    </tr>\n",
       "  </thead>\n",
       "  <tbody>\n",
       "    <tr>\n",
       "      <th>0</th>\n",
       "      <td>6361</td>\n",
       "      <td>2863</td>\n",
       "      <td>48</td>\n",
       "      <td>9</td>\n",
       "      <td>0</td>\n",
       "    </tr>\n",
       "    <tr>\n",
       "      <th>1</th>\n",
       "      <td>6942</td>\n",
       "      <td>3072</td>\n",
       "      <td>32</td>\n",
       "      <td>13</td>\n",
       "      <td>0</td>\n",
       "    </tr>\n",
       "    <tr>\n",
       "      <th>2</th>\n",
       "      <td>8874</td>\n",
       "      <td>4014</td>\n",
       "      <td>58</td>\n",
       "      <td>13</td>\n",
       "      <td>0</td>\n",
       "    </tr>\n",
       "    <tr>\n",
       "      <th>3</th>\n",
       "      <td>9065</td>\n",
       "      <td>4097</td>\n",
       "      <td>53</td>\n",
       "      <td>9</td>\n",
       "      <td>1</td>\n",
       "    </tr>\n",
       "    <tr>\n",
       "      <th>4</th>\n",
       "      <td>7530</td>\n",
       "      <td>3420</td>\n",
       "      <td>48</td>\n",
       "      <td>7</td>\n",
       "      <td>0</td>\n",
       "    </tr>\n",
       "    <tr>\n",
       "      <th>5</th>\n",
       "      <td>6104</td>\n",
       "      <td>2814</td>\n",
       "      <td>33</td>\n",
       "      <td>6</td>\n",
       "      <td>0</td>\n",
       "    </tr>\n",
       "    <tr>\n",
       "      <th>6</th>\n",
       "      <td>5677</td>\n",
       "      <td>2370</td>\n",
       "      <td>45</td>\n",
       "      <td>12</td>\n",
       "      <td>1</td>\n",
       "    </tr>\n",
       "  </tbody>\n",
       "</table>\n",
       "</div>"
      ],
      "text/plain": [
       "payment_type   1.0   2.0  3.0  4.0  5.0\n",
       "weekday                                \n",
       "0             6361  2863   48    9    0\n",
       "1             6942  3072   32   13    0\n",
       "2             8874  4014   58   13    0\n",
       "3             9065  4097   53    9    1\n",
       "4             7530  3420   48    7    0\n",
       "5             6104  2814   33    6    0\n",
       "6             5677  2370   45   12    1"
      ]
     },
     "execution_count": 177,
     "metadata": {},
     "output_type": "execute_result"
    }
   ],
   "source": [
    "pd.crosstab(greentaxi.weekday,greentaxi.payment_type)"
   ]
  },
  {
   "cell_type": "code",
   "execution_count": 178,
   "id": "faa9a318",
   "metadata": {},
   "outputs": [],
   "source": [
    "from scipy.stats import chi2_contingency"
   ]
  },
  {
   "cell_type": "code",
   "execution_count": 179,
   "id": "38fa04e4",
   "metadata": {},
   "outputs": [
    {
     "data": {
      "text/plain": [
       "(31.867488380718015,\n",
       " 0.1303128863259544,\n",
       " 24,\n",
       " array([[6.37554039e+03, 2.85652661e+03, 3.99787610e+01, 8.70200160e+00,\n",
       "         2.52231931e-01],\n",
       "        [6.90998392e+03, 3.09598117e+03, 4.33300675e+01, 9.43146580e+00,\n",
       "         2.73375820e-01],\n",
       "        [8.90212563e+03, 3.98854955e+03, 5.58220842e+01, 1.21505483e+01,\n",
       "         3.52189806e-01],\n",
       "        [9.08485311e+03, 4.07041962e+03, 5.69679037e+01, 1.23999538e+01,\n",
       "         3.59418951e-01],\n",
       "        [7.55983429e+03, 3.38714313e+03, 4.74050495e+01, 1.03184493e+01,\n",
       "         2.99085486e-01],\n",
       "        [6.15297008e+03, 2.75680518e+03, 3.85831012e+01, 8.39821446e+00,\n",
       "         2.43426506e-01],\n",
       "        [5.56769258e+03, 2.49457474e+03, 3.49130328e+01, 7.59936677e+00,\n",
       "         2.20271501e-01]]))"
      ]
     },
     "execution_count": 179,
     "metadata": {},
     "output_type": "execute_result"
    }
   ],
   "source": [
    "chi2_contingency(pd.crosstab(greentaxi.weekday,greentaxi.payment_type))\n",
    "\n",
    "# Since P-Value is 0.1303128863259544 is greater than 0.05 \n",
    "# Fail to reject Null\n",
    "# Thereis no relationship between payment_type and weekday"
   ]
  },
  {
   "cell_type": "code",
   "execution_count": 180,
   "id": "f0a27ea7",
   "metadata": {},
   "outputs": [],
   "source": [
    "# we found that there is some variation in data after the Hypothesis testing ."
   ]
  },
  {
   "cell_type": "code",
   "execution_count": 181,
   "id": "4a179f54",
   "metadata": {},
   "outputs": [],
   "source": [
    "#  split data in to object and Numeric for Dummy Encoding"
   ]
  },
  {
   "cell_type": "code",
   "execution_count": 182,
   "id": "f49f70c2",
   "metadata": {},
   "outputs": [
    {
     "data": {
      "text/plain": [
       "Index(['store_and_fwd_flag', 'RatecodeID', 'passenger_count', 'trip_distance',\n",
       "       'fare_amount', 'extra', 'mta_tax', 'tip_amount', 'tolls_amount',\n",
       "       'improvement_surcharge', 'total_amount', 'payment_type', 'trip_type',\n",
       "       'congestion_surcharge', 'weekday'],\n",
       "      dtype='object')"
      ]
     },
     "execution_count": 182,
     "metadata": {},
     "output_type": "execute_result"
    }
   ],
   "source": [
    "greentaxi.columns"
   ]
  },
  {
   "cell_type": "code",
   "execution_count": 183,
   "id": "5b2908f0",
   "metadata": {},
   "outputs": [],
   "source": [
    "objectcols=greentaxi[['store_and_fwd_flag', 'RatecodeID', 'payment_type', 'trip_type','weekday']]"
   ]
  },
  {
   "cell_type": "code",
   "execution_count": 184,
   "id": "72ef490b",
   "metadata": {},
   "outputs": [],
   "source": [
    "numericcols=greentaxi.drop(['store_and_fwd_flag', 'RatecodeID', 'payment_type', 'trip_type','weekday'],axis=1)"
   ]
  },
  {
   "cell_type": "code",
   "execution_count": 185,
   "id": "e0f63c4a",
   "metadata": {},
   "outputs": [
    {
     "name": "stdout",
     "output_type": "stream",
     "text": [
      "(73591, 15)\n",
      "(73591, 5)\n",
      "(73591, 10)\n"
     ]
    }
   ],
   "source": [
    "print(greentaxi.shape)\n",
    "print(objectcols.shape)\n",
    "print(numericcols.shape)"
   ]
  },
  {
   "cell_type": "code",
   "execution_count": 186,
   "id": "6666ca85",
   "metadata": {},
   "outputs": [],
   "source": [
    "objectcolsdummy=pd.get_dummies(objectcols,columns=['store_and_fwd_flag', 'RatecodeID', 'payment_type', \n",
    "                                                   'trip_type','weekday'])"
   ]
  },
  {
   "cell_type": "code",
   "execution_count": 187,
   "id": "da9bd842",
   "metadata": {},
   "outputs": [
    {
     "name": "stdout",
     "output_type": "stream",
     "text": [
      "(73591, 22)\n"
     ]
    }
   ],
   "source": [
    "print(objectcolsdummy.shape)"
   ]
  },
  {
   "cell_type": "code",
   "execution_count": 188,
   "id": "d07cbe1f",
   "metadata": {},
   "outputs": [
    {
     "data": {
      "text/html": [
       "<div>\n",
       "<style scoped>\n",
       "    .dataframe tbody tr th:only-of-type {\n",
       "        vertical-align: middle;\n",
       "    }\n",
       "\n",
       "    .dataframe tbody tr th {\n",
       "        vertical-align: top;\n",
       "    }\n",
       "\n",
       "    .dataframe thead th {\n",
       "        text-align: right;\n",
       "    }\n",
       "</style>\n",
       "<table border=\"1\" class=\"dataframe\">\n",
       "  <thead>\n",
       "    <tr style=\"text-align: right;\">\n",
       "      <th></th>\n",
       "      <th>passenger_count</th>\n",
       "      <th>trip_distance</th>\n",
       "      <th>fare_amount</th>\n",
       "      <th>extra</th>\n",
       "      <th>mta_tax</th>\n",
       "      <th>tip_amount</th>\n",
       "      <th>tolls_amount</th>\n",
       "      <th>improvement_surcharge</th>\n",
       "      <th>total_amount</th>\n",
       "      <th>congestion_surcharge</th>\n",
       "    </tr>\n",
       "  </thead>\n",
       "  <tbody>\n",
       "    <tr>\n",
       "      <th>passenger_count</th>\n",
       "      <td>1.000000</td>\n",
       "      <td>-0.008155</td>\n",
       "      <td>-0.021463</td>\n",
       "      <td>0.022389</td>\n",
       "      <td>0.079571</td>\n",
       "      <td>-0.007126</td>\n",
       "      <td>-0.012875</td>\n",
       "      <td>-0.011488</td>\n",
       "      <td>-0.018251</td>\n",
       "      <td>0.042650</td>\n",
       "    </tr>\n",
       "    <tr>\n",
       "      <th>trip_distance</th>\n",
       "      <td>-0.008155</td>\n",
       "      <td>1.000000</td>\n",
       "      <td>0.012229</td>\n",
       "      <td>-0.014979</td>\n",
       "      <td>-0.060145</td>\n",
       "      <td>0.011206</td>\n",
       "      <td>0.007755</td>\n",
       "      <td>0.002240</td>\n",
       "      <td>0.012223</td>\n",
       "      <td>-0.015514</td>\n",
       "    </tr>\n",
       "    <tr>\n",
       "      <th>fare_amount</th>\n",
       "      <td>-0.021463</td>\n",
       "      <td>0.012229</td>\n",
       "      <td>1.000000</td>\n",
       "      <td>-0.062749</td>\n",
       "      <td>-0.273943</td>\n",
       "      <td>0.367411</td>\n",
       "      <td>0.376371</td>\n",
       "      <td>0.055764</td>\n",
       "      <td>0.971556</td>\n",
       "      <td>0.028784</td>\n",
       "    </tr>\n",
       "    <tr>\n",
       "      <th>extra</th>\n",
       "      <td>0.022389</td>\n",
       "      <td>-0.014979</td>\n",
       "      <td>-0.062749</td>\n",
       "      <td>1.000000</td>\n",
       "      <td>0.247355</td>\n",
       "      <td>0.014962</td>\n",
       "      <td>-0.045228</td>\n",
       "      <td>0.059506</td>\n",
       "      <td>-0.017635</td>\n",
       "      <td>0.295986</td>\n",
       "    </tr>\n",
       "    <tr>\n",
       "      <th>mta_tax</th>\n",
       "      <td>0.079571</td>\n",
       "      <td>-0.060145</td>\n",
       "      <td>-0.273943</td>\n",
       "      <td>0.247355</td>\n",
       "      <td>1.000000</td>\n",
       "      <td>-0.230601</td>\n",
       "      <td>-0.112875</td>\n",
       "      <td>0.258811</td>\n",
       "      <td>-0.270037</td>\n",
       "      <td>0.229343</td>\n",
       "    </tr>\n",
       "    <tr>\n",
       "      <th>tip_amount</th>\n",
       "      <td>-0.007126</td>\n",
       "      <td>0.011206</td>\n",
       "      <td>0.367411</td>\n",
       "      <td>0.014962</td>\n",
       "      <td>-0.230601</td>\n",
       "      <td>1.000000</td>\n",
       "      <td>0.259930</td>\n",
       "      <td>0.026996</td>\n",
       "      <td>0.552177</td>\n",
       "      <td>0.125387</td>\n",
       "    </tr>\n",
       "    <tr>\n",
       "      <th>tolls_amount</th>\n",
       "      <td>-0.012875</td>\n",
       "      <td>0.007755</td>\n",
       "      <td>0.376371</td>\n",
       "      <td>-0.045228</td>\n",
       "      <td>-0.112875</td>\n",
       "      <td>0.259930</td>\n",
       "      <td>1.000000</td>\n",
       "      <td>-0.002536</td>\n",
       "      <td>0.459671</td>\n",
       "      <td>-0.059491</td>\n",
       "    </tr>\n",
       "    <tr>\n",
       "      <th>improvement_surcharge</th>\n",
       "      <td>-0.011488</td>\n",
       "      <td>0.002240</td>\n",
       "      <td>0.055764</td>\n",
       "      <td>0.059506</td>\n",
       "      <td>0.258811</td>\n",
       "      <td>0.026996</td>\n",
       "      <td>-0.002536</td>\n",
       "      <td>1.000000</td>\n",
       "      <td>0.064430</td>\n",
       "      <td>0.045070</td>\n",
       "    </tr>\n",
       "    <tr>\n",
       "      <th>total_amount</th>\n",
       "      <td>-0.018251</td>\n",
       "      <td>0.012223</td>\n",
       "      <td>0.971556</td>\n",
       "      <td>-0.017635</td>\n",
       "      <td>-0.270037</td>\n",
       "      <td>0.552177</td>\n",
       "      <td>0.459671</td>\n",
       "      <td>0.064430</td>\n",
       "      <td>1.000000</td>\n",
       "      <td>0.117882</td>\n",
       "    </tr>\n",
       "    <tr>\n",
       "      <th>congestion_surcharge</th>\n",
       "      <td>0.042650</td>\n",
       "      <td>-0.015514</td>\n",
       "      <td>0.028784</td>\n",
       "      <td>0.295986</td>\n",
       "      <td>0.229343</td>\n",
       "      <td>0.125387</td>\n",
       "      <td>-0.059491</td>\n",
       "      <td>0.045070</td>\n",
       "      <td>0.117882</td>\n",
       "      <td>1.000000</td>\n",
       "    </tr>\n",
       "  </tbody>\n",
       "</table>\n",
       "</div>"
      ],
      "text/plain": [
       "                       passenger_count  trip_distance  fare_amount     extra  \\\n",
       "passenger_count               1.000000      -0.008155    -0.021463  0.022389   \n",
       "trip_distance                -0.008155       1.000000     0.012229 -0.014979   \n",
       "fare_amount                  -0.021463       0.012229     1.000000 -0.062749   \n",
       "extra                         0.022389      -0.014979    -0.062749  1.000000   \n",
       "mta_tax                       0.079571      -0.060145    -0.273943  0.247355   \n",
       "tip_amount                   -0.007126       0.011206     0.367411  0.014962   \n",
       "tolls_amount                 -0.012875       0.007755     0.376371 -0.045228   \n",
       "improvement_surcharge        -0.011488       0.002240     0.055764  0.059506   \n",
       "total_amount                 -0.018251       0.012223     0.971556 -0.017635   \n",
       "congestion_surcharge          0.042650      -0.015514     0.028784  0.295986   \n",
       "\n",
       "                        mta_tax  tip_amount  tolls_amount  \\\n",
       "passenger_count        0.079571   -0.007126     -0.012875   \n",
       "trip_distance         -0.060145    0.011206      0.007755   \n",
       "fare_amount           -0.273943    0.367411      0.376371   \n",
       "extra                  0.247355    0.014962     -0.045228   \n",
       "mta_tax                1.000000   -0.230601     -0.112875   \n",
       "tip_amount            -0.230601    1.000000      0.259930   \n",
       "tolls_amount          -0.112875    0.259930      1.000000   \n",
       "improvement_surcharge  0.258811    0.026996     -0.002536   \n",
       "total_amount          -0.270037    0.552177      0.459671   \n",
       "congestion_surcharge   0.229343    0.125387     -0.059491   \n",
       "\n",
       "                       improvement_surcharge  total_amount  \\\n",
       "passenger_count                    -0.011488     -0.018251   \n",
       "trip_distance                       0.002240      0.012223   \n",
       "fare_amount                         0.055764      0.971556   \n",
       "extra                               0.059506     -0.017635   \n",
       "mta_tax                             0.258811     -0.270037   \n",
       "tip_amount                          0.026996      0.552177   \n",
       "tolls_amount                       -0.002536      0.459671   \n",
       "improvement_surcharge               1.000000      0.064430   \n",
       "total_amount                        0.064430      1.000000   \n",
       "congestion_surcharge                0.045070      0.117882   \n",
       "\n",
       "                       congestion_surcharge  \n",
       "passenger_count                    0.042650  \n",
       "trip_distance                     -0.015514  \n",
       "fare_amount                        0.028784  \n",
       "extra                              0.295986  \n",
       "mta_tax                            0.229343  \n",
       "tip_amount                         0.125387  \n",
       "tolls_amount                      -0.059491  \n",
       "improvement_surcharge              0.045070  \n",
       "total_amount                       0.117882  \n",
       "congestion_surcharge               1.000000  "
      ]
     },
     "execution_count": 188,
     "metadata": {},
     "output_type": "execute_result"
    }
   ],
   "source": [
    "numericcols.corr()"
   ]
  },
  {
   "cell_type": "code",
   "execution_count": 189,
   "id": "e3142bc0",
   "metadata": {},
   "outputs": [],
   "source": [
    "import seaborn as sns"
   ]
  },
  {
   "cell_type": "code",
   "execution_count": 190,
   "id": "31018322",
   "metadata": {},
   "outputs": [
    {
     "data": {
      "image/png": "[encoded data removed]",
      "text/plain": [
       "<Figure size 1500x1000 with 2 Axes>"
      ]
     },
     "metadata": {},
     "output_type": "display_data"
    }
   ],
   "source": [
    "plt.figure(figsize=(15,10))\n",
    "sns.heatmap(numericcols.corr(),annot=True)\n",
    "plt.show()"
   ]
  },
  {
   "cell_type": "code",
   "execution_count": 191,
   "id": "8376ee2f",
   "metadata": {},
   "outputs": [],
   "source": [
    "numericcols=numericcols.drop('fare_amount',axis=1)"
   ]
  },
  {
   "cell_type": "code",
   "execution_count": 192,
   "id": "1f08b9cc",
   "metadata": {},
   "outputs": [],
   "source": [
    "greentaxi_clean=pd.concat([numericcols,objectcolsdummy],axis=1)"
   ]
  },
  {
   "cell_type": "code",
   "execution_count": 193,
   "id": "580e1620",
   "metadata": {},
   "outputs": [],
   "source": [
    "y=greentaxi_clean.total_amount\n",
    "X=greentaxi_clean.drop('total_amount',axis=1)"
   ]
  },
  {
   "cell_type": "code",
   "execution_count": 194,
   "id": "b5335503",
   "metadata": {},
   "outputs": [
    {
     "name": "stdout",
     "output_type": "stream",
     "text": [
      "Skew: 4.082205798136926\n",
      "Kurt: 39.36328301640114\n"
     ]
    },
    {
     "data": {
      "image/png": "[encoded data removed]",
      "text/plain": [
       "<Figure size 640x480 with 1 Axes>"
      ]
     },
     "metadata": {},
     "output_type": "display_data"
    }
   ],
   "source": [
    "sns.histplot(y)\n",
    "print(\"Skew:\",y.skew())\n",
    "print(\"Kurt:\",y.kurt())"
   ]
  },
  {
   "cell_type": "code",
   "execution_count": 195,
   "id": "bd63641b",
   "metadata": {},
   "outputs": [
    {
     "name": "stderr",
     "output_type": "stream",
     "text": [
      "C:\\Users\\DELL\\anaconda3\\lib\\site-packages\\seaborn\\_decorators.py:36: FutureWarning: Pass the following variable as a keyword arg: x. From version 0.12, the only valid positional argument will be `data`, and passing other arguments without an explicit keyword will result in an error or misinterpretation.\n",
      "  warnings.warn(\n"
     ]
    },
    {
     "data": {
      "text/plain": [
       "<AxesSubplot:xlabel='total_amount'>"
      ]
     },
     "execution_count": 195,
     "metadata": {},
     "output_type": "execute_result"
    },
    {
     "data": {
      "image/png": "[encoded data removed]",
      "text/plain": [
       "<Figure size 640x480 with 1 Axes>"
      ]
     },
     "metadata": {},
     "output_type": "display_data"
    }
   ],
   "source": [
    "sns.boxplot(y)"
   ]
  },
  {
   "cell_type": "code",
   "execution_count": 196,
   "id": "57280e49",
   "metadata": {},
   "outputs": [
    {
     "name": "stderr",
     "output_type": "stream",
     "text": [
      "C:\\Users\\DELL\\anaconda3\\lib\\site-packages\\pandas\\core\\arraylike.py:397: RuntimeWarning: divide by zero encountered in log\n",
      "  result = getattr(ufunc, method)(*inputs, **kwargs)\n",
      "C:\\Users\\DELL\\anaconda3\\lib\\site-packages\\pandas\\core\\arraylike.py:397: RuntimeWarning: invalid value encountered in log\n",
      "  result = getattr(ufunc, method)(*inputs, **kwargs)\n",
      "C:\\Users\\DELL\\anaconda3\\lib\\site-packages\\seaborn\\_decorators.py:36: FutureWarning: Pass the following variable as a keyword arg: x. From version 0.12, the only valid positional argument will be `data`, and passing other arguments without an explicit keyword will result in an error or misinterpretation.\n",
      "  warnings.warn(\n"
     ]
    },
    {
     "data": {
      "text/plain": [
       "<AxesSubplot:xlabel='total_amount'>"
      ]
     },
     "execution_count": 196,
     "metadata": {},
     "output_type": "execute_result"
    },
    {
     "data": {
      "image/png": "[encoded data removed]",
      "text/plain": [
       "<Figure size 640x480 with 1 Axes>"
      ]
     },
     "metadata": {},
     "output_type": "display_data"
    }
   ],
   "source": [
    "sns.boxplot(np.log(y))"
   ]
  },
  {
   "cell_type": "code",
   "execution_count": 197,
   "id": "f71048ba",
   "metadata": {},
   "outputs": [],
   "source": [
    "# when we applied the logrithmic transformation , box is moved to the middle some what close to the normal distribution."
   ]
  },
  {
   "cell_type": "markdown",
   "id": "cd755350",
   "metadata": {},
   "source": [
    "# Model Building"
   ]
  },
  {
   "cell_type": "code",
   "execution_count": 198,
   "id": "a1f23824",
   "metadata": {},
   "outputs": [],
   "source": [
    "from sklearn.linear_model import LinearRegression"
   ]
  },
  {
   "cell_type": "code",
   "execution_count": 199,
   "id": "b259c3e8",
   "metadata": {},
   "outputs": [],
   "source": [
    "reg=LinearRegression()"
   ]
  },
  {
   "cell_type": "code",
   "execution_count": 200,
   "id": "0c415806",
   "metadata": {},
   "outputs": [],
   "source": [
    "regmodel=reg.fit(X,y)"
   ]
  },
  {
   "cell_type": "code",
   "execution_count": 201,
   "id": "01cdcd5f",
   "metadata": {},
   "outputs": [
    {
     "data": {
      "text/plain": [
       "0.4881073471795282"
      ]
     },
     "execution_count": 201,
     "metadata": {},
     "output_type": "execute_result"
    }
   ],
   "source": [
    "regmodel.score(X,y) \n",
    "\n",
    "# R Square between 0.60-0.95 \n",
    "# in our case we got R Square =0.488 which does not meet the basic requirement ."
   ]
  },
  {
   "cell_type": "code",
   "execution_count": 202,
   "id": "9cbc99a8",
   "metadata": {},
   "outputs": [
    {
     "data": {
      "text/plain": [
       "array([0.39241803, 0.41206218, 0.44459577, 0.41940574, 0.58791091])"
      ]
     },
     "execution_count": 202,
     "metadata": {},
     "output_type": "execute_result"
    }
   ],
   "source": [
    "cross_val_score(reg,X,y)"
   ]
  },
  {
   "cell_type": "code",
   "execution_count": 234,
   "id": "c2dfe0ee",
   "metadata": {},
   "outputs": [
    {
     "data": {
      "text/plain": [
       "0.45127852599999996"
      ]
     },
     "execution_count": 234,
     "metadata": {},
     "output_type": "execute_result"
    }
   ],
   "source": [
    "np.mean([0.39241803, 0.41206218, 0.44459577, 0.41940574, 0.58791091])"
   ]
  },
  {
   "cell_type": "code",
   "execution_count": 235,
   "id": "84c86667",
   "metadata": {},
   "outputs": [],
   "source": [
    "regpredict=regmodel.predict(X)"
   ]
  },
  {
   "cell_type": "code",
   "execution_count": 237,
   "id": "cc31d700",
   "metadata": {},
   "outputs": [],
   "source": [
    "reg_residuals=y-regpredict # Residual"
   ]
  },
  {
   "cell_type": "code",
   "execution_count": 238,
   "id": "56468204",
   "metadata": {},
   "outputs": [
    {
     "data": {
      "text/plain": [
       "11.59333692944758"
      ]
     },
     "execution_count": 238,
     "metadata": {},
     "output_type": "execute_result"
    }
   ],
   "source": [
    "np.sqrt(np.mean(reg_residuals**2))"
   ]
  },
  {
   "cell_type": "code",
   "execution_count": 203,
   "id": "4f57486c",
   "metadata": {},
   "outputs": [],
   "source": [
    "# Linear Regressing model is not working on this because of outliers base model will not work "
   ]
  },
  {
   "cell_type": "code",
   "execution_count": 204,
   "id": "a69282b6",
   "metadata": {},
   "outputs": [],
   "source": [
    "from sklearn.tree import DecisionTreeRegressor"
   ]
  },
  {
   "cell_type": "code",
   "execution_count": 205,
   "id": "aec98922",
   "metadata": {},
   "outputs": [],
   "source": [
    "tree=DecisionTreeRegressor(max_depth=10)"
   ]
  },
  {
   "cell_type": "code",
   "execution_count": 206,
   "id": "6a3841d8",
   "metadata": {},
   "outputs": [],
   "source": [
    "treemodel=tree.fit(X,y)"
   ]
  },
  {
   "cell_type": "code",
   "execution_count": 207,
   "id": "27ab022a",
   "metadata": {},
   "outputs": [
    {
     "data": {
      "text/plain": [
       "0.8642046754481009"
      ]
     },
     "execution_count": 207,
     "metadata": {},
     "output_type": "execute_result"
    }
   ],
   "source": [
    "treemodel.score(X,y)"
   ]
  },
  {
   "cell_type": "code",
   "execution_count": 208,
   "id": "d4f8fb9d",
   "metadata": {},
   "outputs": [],
   "source": [
    "# Trees models do not bother about the outliers and skewness, because they are non parametric algorithms( no assumptions)"
   ]
  },
  {
   "cell_type": "code",
   "execution_count": 209,
   "id": "4ab6a5a0",
   "metadata": {},
   "outputs": [],
   "source": [
    "from sklearn.model_selection import cross_val_score\n",
    "# check for overfitting"
   ]
  },
  {
   "cell_type": "code",
   "execution_count": 210,
   "id": "5039eb5d",
   "metadata": {},
   "outputs": [
    {
     "data": {
      "text/plain": [
       "array([ 0.73349149,  0.69914013,  0.73614895,  0.72873641, -1.43241675])"
      ]
     },
     "execution_count": 210,
     "metadata": {},
     "output_type": "execute_result"
    }
   ],
   "source": [
    "cross_val_score(tree,X,y)"
   ]
  },
  {
   "cell_type": "code",
   "execution_count": 211,
   "id": "7c7e78e5",
   "metadata": {},
   "outputs": [
    {
     "data": {
      "text/plain": [
       "0.313157308"
      ]
     },
     "execution_count": 211,
     "metadata": {},
     "output_type": "execute_result"
    }
   ],
   "source": [
    "np.mean([0.75298646,  0.72809776,  0.74720159,  0.73435634, -1.39685561]) \n",
    "# cross_val_score=0.313157308"
   ]
  },
  {
   "cell_type": "code",
   "execution_count": 212,
   "id": "e9156a0f",
   "metadata": {},
   "outputs": [],
   "source": [
    "treepredict=treemodel.predict(X)"
   ]
  },
  {
   "cell_type": "code",
   "execution_count": 213,
   "id": "b819ba8f",
   "metadata": {},
   "outputs": [],
   "source": [
    "tree_residuals=y-treepredict # Residual"
   ]
  },
  {
   "cell_type": "code",
   "execution_count": 214,
   "id": "4da44401",
   "metadata": {},
   "outputs": [
    {
     "data": {
      "text/plain": [
       "5.971197257546494"
      ]
     },
     "execution_count": 214,
     "metadata": {},
     "output_type": "execute_result"
    }
   ],
   "source": [
    "np.sqrt(np.mean(tree_residuals**2)) \n",
    "# RMSE= 5.97\n",
    "#Root mean Square Error (RMSE)- No Fixed Range and it is a comparitive \n",
    "# Metric and model that has the Least RMSE is best fit Model.\n"
   ]
  },
  {
   "cell_type": "code",
   "execution_count": 215,
   "id": "a9bd2700",
   "metadata": {},
   "outputs": [],
   "source": [
    "from sklearn.ensemble import RandomForestRegressor"
   ]
  },
  {
   "cell_type": "code",
   "execution_count": 216,
   "id": "60e1df0f",
   "metadata": {},
   "outputs": [],
   "source": [
    "RF=RandomForestRegressor(n_estimators=3000,max_depth=10)"
   ]
  },
  {
   "cell_type": "code",
   "execution_count": 217,
   "id": "3d041f64",
   "metadata": {},
   "outputs": [],
   "source": [
    "RFmodel=RF.fit(X,y)"
   ]
  },
  {
   "cell_type": "code",
   "execution_count": 218,
   "id": "871b189a",
   "metadata": {},
   "outputs": [
    {
     "data": {
      "text/plain": [
       "0.8782967228801323"
      ]
     },
     "execution_count": 218,
     "metadata": {},
     "output_type": "execute_result"
    }
   ],
   "source": [
    "RFmodel.score(X,y)"
   ]
  },
  {
   "cell_type": "code",
   "execution_count": 219,
   "id": "ea6b5d50",
   "metadata": {},
   "outputs": [
    {
     "data": {
      "text/plain": [
       "array([ 0.74699048,  0.72166696,  0.74790272,  0.72753604, -1.39693872])"
      ]
     },
     "execution_count": 219,
     "metadata": {},
     "output_type": "execute_result"
    }
   ],
   "source": [
    "cross_val_score(tree,X,y)"
   ]
  },
  {
   "cell_type": "code",
   "execution_count": 220,
   "id": "96fdc3b0",
   "metadata": {},
   "outputs": [
    {
     "data": {
      "text/plain": [
       "0.308591614"
      ]
     },
     "execution_count": 220,
     "metadata": {},
     "output_type": "execute_result"
    }
   ],
   "source": [
    "np.mean([ 0.75381086,  0.72863213,  0.74514916,  0.70976346, -1.39439754])"
   ]
  },
  {
   "cell_type": "code",
   "execution_count": 221,
   "id": "e30f3ad7",
   "metadata": {},
   "outputs": [],
   "source": [
    "RFpredict=RFmodel.predict(X)"
   ]
  },
  {
   "cell_type": "code",
   "execution_count": 222,
   "id": "786c403b",
   "metadata": {},
   "outputs": [],
   "source": [
    "RF_residuals=y-RFpredict # Residual"
   ]
  },
  {
   "cell_type": "code",
   "execution_count": 223,
   "id": "6a353bfd",
   "metadata": {},
   "outputs": [
    {
     "data": {
      "text/plain": [
       "5.652884941122201"
      ]
     },
     "execution_count": 223,
     "metadata": {},
     "output_type": "execute_result"
    }
   ],
   "source": [
    "np.sqrt(np.mean(RF_residuals**2)) "
   ]
  },
  {
   "cell_type": "code",
   "execution_count": 224,
   "id": "5823ff23",
   "metadata": {},
   "outputs": [],
   "source": [
    "from sklearn.ensemble import GradientBoostingRegressor"
   ]
  },
  {
   "cell_type": "code",
   "execution_count": 225,
   "id": "28cf7f7b",
   "metadata": {},
   "outputs": [],
   "source": [
    "gbm=GradientBoostingRegressor(n_estimators=5000)"
   ]
  },
  {
   "cell_type": "code",
   "execution_count": 226,
   "id": "3bbedcce",
   "metadata": {},
   "outputs": [],
   "source": [
    "gbmmodel=gbm.fit(X,y)"
   ]
  },
  {
   "cell_type": "code",
   "execution_count": 227,
   "id": "6e775cfe",
   "metadata": {},
   "outputs": [
    {
     "data": {
      "text/plain": [
       "0.9089111425431655"
      ]
     },
     "execution_count": 227,
     "metadata": {},
     "output_type": "execute_result"
    }
   ],
   "source": [
    "gbmmodel.score(X,y)"
   ]
  },
  {
   "cell_type": "code",
   "execution_count": 228,
   "id": "80de5d00",
   "metadata": {},
   "outputs": [
    {
     "data": {
      "text/plain": [
       "array([0.77007054, 0.77679026, 0.79267164, 0.79203839, 0.66479434])"
      ]
     },
     "execution_count": 228,
     "metadata": {},
     "output_type": "execute_result"
    }
   ],
   "source": [
    "cross_val_score(gbm,X,y)"
   ]
  },
  {
   "cell_type": "code",
   "execution_count": 230,
   "id": "2b6eb816",
   "metadata": {},
   "outputs": [
    {
     "data": {
      "text/plain": [
       "0.7592730340000001"
      ]
     },
     "execution_count": 230,
     "metadata": {},
     "output_type": "execute_result"
    }
   ],
   "source": [
    "np.mean([0.77007054, 0.77679026, 0.79267164, 0.79203839, 0.66479434])"
   ]
  },
  {
   "cell_type": "code",
   "execution_count": 231,
   "id": "c0159618",
   "metadata": {},
   "outputs": [],
   "source": [
    "gbmpredict=gbmmodel.predict(X)"
   ]
  },
  {
   "cell_type": "code",
   "execution_count": 232,
   "id": "e5afd4ab",
   "metadata": {},
   "outputs": [],
   "source": [
    "gbm_residuals=y-gbmpredict # Residual"
   ]
  },
  {
   "cell_type": "code",
   "execution_count": 233,
   "id": "495674ca",
   "metadata": {},
   "outputs": [
    {
     "data": {
      "text/plain": [
       "4.890481686241418"
      ]
     },
     "execution_count": 233,
     "metadata": {},
     "output_type": "execute_result"
    }
   ],
   "source": [
    "np.sqrt(np.mean(gbm_residuals**2)) "
   ]
  },
  {
   "cell_type": "markdown",
   "id": "93f83689",
   "metadata": {},
   "source": [
    "# Model Performance Metrics:\n"
   ]
  },
  {
   "attachments": {
    "image.png": {
     "image/png": "[encoded data removed]"
    }
   },
   "cell_type": "markdown",
   "id": "9e6f00a0",
   "metadata": {},
   "source": [
    "![image.png](attachment:image.png)"
   ]
  },
  {
   "cell_type": "markdown",
   "id": "fceb95aa",
   "metadata": {},
   "source": [
    "# Conclusion:"
   ]
  },
  {
   "cell_type": "markdown",
   "id": "ae7ca71e",
   "metadata": {},
   "source": [
    " Gradient Boosting Model (n_estimators = 5000) has the highest accuracy compared to all other models."
   ]
  },
  {
   "cell_type": "code",
   "execution_count": null,
   "id": "114ff188",
   "metadata": {},
   "outputs": [],
   "source": []
  }
 ],
 "metadata": {
  "kernelspec": {
   "display_name": "Python 3 (ipykernel)",
   "language": "python",
   "name": "python3"
  },
  "language_info": {
   "codemirror_mode": {
    "name": "ipython",
    "version": 3
   },
   "file_extension": ".py",
   "mimetype": "text/x-python",
   "name": "python",
   "nbconvert_exporter": "python",
   "pygments_lexer": "ipython3",
   "version": "3.9.13"
  }
 },
 "nbformat": 4,
 "nbformat_minor": 5
}
